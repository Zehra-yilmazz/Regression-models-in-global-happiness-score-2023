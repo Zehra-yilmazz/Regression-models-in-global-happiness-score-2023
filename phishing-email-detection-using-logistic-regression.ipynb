{
 "cells": [
  {
   "cell_type": "code",
   "execution_count": 1,
   "id": "ff7b6fac",
   "metadata": {
    "_cell_guid": "b1076dfc-b9ad-4769-8c92-a6c4dae69d19",
    "_uuid": "8f2839f25d086af736a60e9eeb907d3b93b6e0e5",
    "execution": {
     "iopub.execute_input": "2025-07-05T21:30:11.286101Z",
     "iopub.status.busy": "2025-07-05T21:30:11.285727Z",
     "iopub.status.idle": "2025-07-05T21:30:13.267553Z",
     "shell.execute_reply": "2025-07-05T21:30:13.266129Z"
    },
    "papermill": {
     "duration": 1.99456,
     "end_time": "2025-07-05T21:30:13.269148",
     "exception": false,
     "start_time": "2025-07-05T21:30:11.274588",
     "status": "completed"
    },
    "tags": []
   },
   "outputs": [
    {
     "name": "stdout",
     "output_type": "stream",
     "text": [
      "/kaggle/input/phishingemails/Phishing_Email.csv\n"
     ]
    }
   ],
   "source": [
    "# This Python 3 environment comes with many helpful analytics libraries installed\n",
    "# It is defined by the kaggle/python Docker image: https://github.com/kaggle/docker-python\n",
    "# For example, here's several helpful packages to load\n",
    "\n",
    "import numpy as np # linear algebra\n",
    "import pandas as pd # data processing, CSV file I/O (e.g. pd.read_csv)\n",
    "\n",
    "# Input data files are available in the read-only \"../input/\" directory\n",
    "# For example, running this (by clicking run or pressing Shift+Enter) will list all files under the input directory\n",
    "\n",
    "import os\n",
    "for dirname, _, filenames in os.walk('/kaggle/input'):\n",
    "    for filename in filenames:\n",
    "        print(os.path.join(dirname, filename))\n",
    "\n",
    "# You can write up to 20GB to the current directory (/kaggle/working/) that gets preserved as output when you create a version using \"Save & Run All\" \n",
    "# You can also write temporary files to /kaggle/temp/, but they won't be saved outside of the current session"
   ]
  },
  {
   "cell_type": "markdown",
   "id": "4470b571",
   "metadata": {
    "papermill": {
     "duration": 0.007871,
     "end_time": "2025-07-05T21:30:13.285637",
     "exception": false,
     "start_time": "2025-07-05T21:30:13.277766",
     "status": "completed"
    },
    "tags": []
   },
   "source": [
    "We will create a model that determines whether an email is safe or phishing using the data set."
   ]
  },
  {
   "cell_type": "markdown",
   "id": "b16bbae7",
   "metadata": {
    "papermill": {
     "duration": 0.007841,
     "end_time": "2025-07-05T21:30:13.301478",
     "exception": false,
     "start_time": "2025-07-05T21:30:13.293637",
     "status": "completed"
    },
    "tags": []
   },
   "source": [
    "# IMPORT LIBRARIES"
   ]
  },
  {
   "cell_type": "markdown",
   "id": "b2ea559d",
   "metadata": {
    "papermill": {
     "duration": 0.00768,
     "end_time": "2025-07-05T21:30:13.317177",
     "exception": false,
     "start_time": "2025-07-05T21:30:13.309497",
     "status": "completed"
    },
    "tags": []
   },
   "source": [
    "# # # Libraries \n",
    "\n",
    "NumPy; a library for numerical operations, arrays, and matrices.\n",
    "\n",
    "Pandas; used for data manipulation and analysis.\n",
    "\n",
    "TF-IDF Vectorizer to convert text data into numerical feature vectors.\n",
    "\n",
    "Logistic Regression algorithm for classification tasks.\n",
    "\n",
    "Accuracy_score: Calculate the accuracy of the model’s predictions.\n",
    "\n",
    "Confusion_matrix :Shows the number of true positives, true negatives, false positives, and false negatives in a matrix format.\n",
    "\n",
    "Classification_report:Provides detailed performance metrics such as precision, recall, F1-score, and support for each class.\n",
    "\n"
   ]
  },
  {
   "cell_type": "code",
   "execution_count": 2,
   "id": "d4ae049f",
   "metadata": {
    "execution": {
     "iopub.execute_input": "2025-07-05T21:30:13.334921Z",
     "iopub.status.busy": "2025-07-05T21:30:13.334509Z",
     "iopub.status.idle": "2025-07-05T21:30:15.084523Z",
     "shell.execute_reply": "2025-07-05T21:30:15.083439Z"
    },
    "papermill": {
     "duration": 1.761201,
     "end_time": "2025-07-05T21:30:15.086283",
     "exception": false,
     "start_time": "2025-07-05T21:30:13.325082",
     "status": "completed"
    },
    "tags": []
   },
   "outputs": [],
   "source": [
    "import numpy as np\n",
    "import pandas as pd\n",
    "from sklearn.model_selection import train_test_split\n",
    "from sklearn.feature_extraction.text import TfidfVectorizer\n",
    "from sklearn.linear_model import LogisticRegression\n",
    "from sklearn.metrics import accuracy_score,classification_report,confusion_matrix\n"
   ]
  },
  {
   "cell_type": "markdown",
   "id": "61f01591",
   "metadata": {
    "papermill": {
     "duration": 0.007894,
     "end_time": "2025-07-05T21:30:15.102509",
     "exception": false,
     "start_time": "2025-07-05T21:30:15.094615",
     "status": "completed"
    },
    "tags": []
   },
   "source": [
    "# IMPORT DATASET"
   ]
  },
  {
   "cell_type": "code",
   "execution_count": 3,
   "id": "ad828599",
   "metadata": {
    "execution": {
     "iopub.execute_input": "2025-07-05T21:30:15.120122Z",
     "iopub.status.busy": "2025-07-05T21:30:15.119629Z",
     "iopub.status.idle": "2025-07-05T21:30:16.381297Z",
     "shell.execute_reply": "2025-07-05T21:30:16.380409Z"
    },
    "papermill": {
     "duration": 1.272733,
     "end_time": "2025-07-05T21:30:16.383160",
     "exception": false,
     "start_time": "2025-07-05T21:30:15.110427",
     "status": "completed"
    },
    "tags": []
   },
   "outputs": [],
   "source": [
    "file_path = \"/kaggle/input/phishingemails/Phishing_Email.csv\"\n",
    "df = pd.read_csv(file_path)"
   ]
  },
  {
   "cell_type": "code",
   "execution_count": 4,
   "id": "afa6f722",
   "metadata": {
    "execution": {
     "iopub.execute_input": "2025-07-05T21:30:16.401448Z",
     "iopub.status.busy": "2025-07-05T21:30:16.401050Z",
     "iopub.status.idle": "2025-07-05T21:30:16.426779Z",
     "shell.execute_reply": "2025-07-05T21:30:16.425719Z"
    },
    "papermill": {
     "duration": 0.036761,
     "end_time": "2025-07-05T21:30:16.428278",
     "exception": false,
     "start_time": "2025-07-05T21:30:16.391517",
     "status": "completed"
    },
    "tags": []
   },
   "outputs": [
    {
     "data": {
      "text/html": [
       "<div>\n",
       "<style scoped>\n",
       "    .dataframe tbody tr th:only-of-type {\n",
       "        vertical-align: middle;\n",
       "    }\n",
       "\n",
       "    .dataframe tbody tr th {\n",
       "        vertical-align: top;\n",
       "    }\n",
       "\n",
       "    .dataframe thead th {\n",
       "        text-align: right;\n",
       "    }\n",
       "</style>\n",
       "<table border=\"1\" class=\"dataframe\">\n",
       "  <thead>\n",
       "    <tr style=\"text-align: right;\">\n",
       "      <th></th>\n",
       "      <th>Unnamed: 0</th>\n",
       "      <th>Email Text</th>\n",
       "      <th>Email Type</th>\n",
       "    </tr>\n",
       "  </thead>\n",
       "  <tbody>\n",
       "    <tr>\n",
       "      <th>0</th>\n",
       "      <td>0</td>\n",
       "      <td>re : 6 . 1100 , disc : uniformitarianism , re ...</td>\n",
       "      <td>Safe Email</td>\n",
       "    </tr>\n",
       "    <tr>\n",
       "      <th>1</th>\n",
       "      <td>1</td>\n",
       "      <td>the other side of * galicismos * * galicismo *...</td>\n",
       "      <td>Safe Email</td>\n",
       "    </tr>\n",
       "    <tr>\n",
       "      <th>2</th>\n",
       "      <td>2</td>\n",
       "      <td>re : equistar deal tickets are you still avail...</td>\n",
       "      <td>Safe Email</td>\n",
       "    </tr>\n",
       "    <tr>\n",
       "      <th>3</th>\n",
       "      <td>3</td>\n",
       "      <td>\\nHello I am your hot lil horny toy.\\n    I am...</td>\n",
       "      <td>Phishing Email</td>\n",
       "    </tr>\n",
       "    <tr>\n",
       "      <th>4</th>\n",
       "      <td>4</td>\n",
       "      <td>software at incredibly low prices ( 86 % lower...</td>\n",
       "      <td>Phishing Email</td>\n",
       "    </tr>\n",
       "  </tbody>\n",
       "</table>\n",
       "</div>"
      ],
      "text/plain": [
       "   Unnamed: 0                                         Email Text  \\\n",
       "0           0  re : 6 . 1100 , disc : uniformitarianism , re ...   \n",
       "1           1  the other side of * galicismos * * galicismo *...   \n",
       "2           2  re : equistar deal tickets are you still avail...   \n",
       "3           3  \\nHello I am your hot lil horny toy.\\n    I am...   \n",
       "4           4  software at incredibly low prices ( 86 % lower...   \n",
       "\n",
       "       Email Type  \n",
       "0      Safe Email  \n",
       "1      Safe Email  \n",
       "2      Safe Email  \n",
       "3  Phishing Email  \n",
       "4  Phishing Email  "
      ]
     },
     "execution_count": 4,
     "metadata": {},
     "output_type": "execute_result"
    }
   ],
   "source": [
    "df.head()"
   ]
  },
  {
   "cell_type": "code",
   "execution_count": 5,
   "id": "d3359b2b",
   "metadata": {
    "execution": {
     "iopub.execute_input": "2025-07-05T21:30:16.448905Z",
     "iopub.status.busy": "2025-07-05T21:30:16.448571Z",
     "iopub.status.idle": "2025-07-05T21:30:16.476451Z",
     "shell.execute_reply": "2025-07-05T21:30:16.475310Z"
    },
    "papermill": {
     "duration": 0.039033,
     "end_time": "2025-07-05T21:30:16.478085",
     "exception": false,
     "start_time": "2025-07-05T21:30:16.439052",
     "status": "completed"
    },
    "tags": []
   },
   "outputs": [
    {
     "name": "stdout",
     "output_type": "stream",
     "text": [
      "<class 'pandas.core.frame.DataFrame'>\n",
      "RangeIndex: 18650 entries, 0 to 18649\n",
      "Data columns (total 3 columns):\n",
      " #   Column      Non-Null Count  Dtype \n",
      "---  ------      --------------  ----- \n",
      " 0   Unnamed: 0  18650 non-null  int64 \n",
      " 1   Email Text  18634 non-null  object\n",
      " 2   Email Type  18650 non-null  object\n",
      "dtypes: int64(1), object(2)\n",
      "memory usage: 437.2+ KB\n"
     ]
    }
   ],
   "source": [
    "df.info()"
   ]
  },
  {
   "cell_type": "markdown",
   "id": "2fd98a57",
   "metadata": {
    "papermill": {
     "duration": 0.008266,
     "end_time": "2025-07-05T21:30:16.494823",
     "exception": false,
     "start_time": "2025-07-05T21:30:16.486557",
     "status": "completed"
    },
    "tags": []
   },
   "source": [
    "Is data contains missing data?"
   ]
  },
  {
   "cell_type": "code",
   "execution_count": 6,
   "id": "67c9436b",
   "metadata": {
    "execution": {
     "iopub.execute_input": "2025-07-05T21:30:16.513522Z",
     "iopub.status.busy": "2025-07-05T21:30:16.513124Z",
     "iopub.status.idle": "2025-07-05T21:30:16.524990Z",
     "shell.execute_reply": "2025-07-05T21:30:16.524144Z"
    },
    "jupyter": {
     "source_hidden": true
    },
    "papermill": {
     "duration": 0.022761,
     "end_time": "2025-07-05T21:30:16.526525",
     "exception": false,
     "start_time": "2025-07-05T21:30:16.503764",
     "status": "completed"
    },
    "tags": []
   },
   "outputs": [
    {
     "data": {
      "text/plain": [
       "Unnamed: 0     0\n",
       "Email Text    16\n",
       "Email Type     0\n",
       "dtype: int64"
      ]
     },
     "execution_count": 6,
     "metadata": {},
     "output_type": "execute_result"
    }
   ],
   "source": [
    "df.isnull().sum()"
   ]
  },
  {
   "cell_type": "markdown",
   "id": "38a3b4fd",
   "metadata": {
    "papermill": {
     "duration": 0.008361,
     "end_time": "2025-07-05T21:30:16.543590",
     "exception": false,
     "start_time": "2025-07-05T21:30:16.535229",
     "status": "completed"
    },
    "tags": []
   },
   "source": [
    "Data contains 16 missings. Let's remove missings."
   ]
  },
  {
   "cell_type": "code",
   "execution_count": 7,
   "id": "d6a624a4",
   "metadata": {
    "execution": {
     "iopub.execute_input": "2025-07-05T21:30:16.562098Z",
     "iopub.status.busy": "2025-07-05T21:30:16.561241Z",
     "iopub.status.idle": "2025-07-05T21:30:16.574665Z",
     "shell.execute_reply": "2025-07-05T21:30:16.573617Z"
    },
    "papermill": {
     "duration": 0.02486,
     "end_time": "2025-07-05T21:30:16.576726",
     "exception": false,
     "start_time": "2025-07-05T21:30:16.551866",
     "status": "completed"
    },
    "tags": []
   },
   "outputs": [],
   "source": [
    "df = df.dropna()"
   ]
  },
  {
   "cell_type": "code",
   "execution_count": 8,
   "id": "4768ca97",
   "metadata": {
    "execution": {
     "iopub.execute_input": "2025-07-05T21:30:16.595812Z",
     "iopub.status.busy": "2025-07-05T21:30:16.595466Z",
     "iopub.status.idle": "2025-07-05T21:30:16.748128Z",
     "shell.execute_reply": "2025-07-05T21:30:16.747201Z"
    },
    "papermill": {
     "duration": 0.164204,
     "end_time": "2025-07-05T21:30:16.750029",
     "exception": false,
     "start_time": "2025-07-05T21:30:16.585825",
     "status": "completed"
    },
    "tags": []
   },
   "outputs": [],
   "source": [
    "df = df[df['Email Text'].str.lower() != 'empty']"
   ]
  },
  {
   "cell_type": "markdown",
   "id": "7cb258e9",
   "metadata": {
    "papermill": {
     "duration": 0.011083,
     "end_time": "2025-07-05T21:30:16.774360",
     "exception": false,
     "start_time": "2025-07-05T21:30:16.763277",
     "status": "completed"
    },
    "tags": []
   },
   "source": [
    "# LOGISTIC REGRESSION"
   ]
  },
  {
   "cell_type": "markdown",
   "id": "193ddecc",
   "metadata": {
    "papermill": {
     "duration": 0.013426,
     "end_time": "2025-07-05T21:30:16.798806",
     "exception": false,
     "start_time": "2025-07-05T21:30:16.785380",
     "status": "completed"
    },
    "tags": []
   },
   "source": [
    "We use  a logistic regression model for predict the data.\n",
    "\n",
    "Logistic regression is one of the most commonly used classification algorithms in machine learning and statistics.\n",
    "\n",
    "In model:\n",
    "\n",
    "Email Text will be independent variable (X)\n",
    "\n",
    "Email Type will be dependent variable (Y)\n",
    "\n",
    "\n"
   ]
  },
  {
   "cell_type": "markdown",
   "id": "9cc50d9c",
   "metadata": {
    "papermill": {
     "duration": 0.008342,
     "end_time": "2025-07-05T21:30:16.816538",
     "exception": false,
     "start_time": "2025-07-05T21:30:16.808196",
     "status": "completed"
    },
    "tags": []
   },
   "source": [
    "We need to convert the type of the Email Type variable to a numeric label.\n",
    "\n",
    "Because LogisticRegression can only work with numerical inputs and outputs.\n",
    "LogisticRegression cannot directly understand text, categorical values, or string expressions."
   ]
  },
  {
   "cell_type": "code",
   "execution_count": 9,
   "id": "9c2babaf",
   "metadata": {
    "execution": {
     "iopub.execute_input": "2025-07-05T21:30:16.895665Z",
     "iopub.status.busy": "2025-07-05T21:30:16.894812Z",
     "iopub.status.idle": "2025-07-05T21:30:16.905135Z",
     "shell.execute_reply": "2025-07-05T21:30:16.903793Z"
    },
    "papermill": {
     "duration": 0.021983,
     "end_time": "2025-07-05T21:30:16.906835",
     "exception": false,
     "start_time": "2025-07-05T21:30:16.884852",
     "status": "completed"
    },
    "tags": []
   },
   "outputs": [],
   "source": [
    "mapping = {'Safe Email': 0, 'Phishing Email': 1} \n",
    "\n",
    "df['email_type_encoded'] = df['Email Type'].map(mapping)"
   ]
  },
  {
   "cell_type": "code",
   "execution_count": 10,
   "id": "dc8e09bb",
   "metadata": {
    "execution": {
     "iopub.execute_input": "2025-07-05T21:30:16.925747Z",
     "iopub.status.busy": "2025-07-05T21:30:16.925193Z",
     "iopub.status.idle": "2025-07-05T21:30:16.930432Z",
     "shell.execute_reply": "2025-07-05T21:30:16.929188Z"
    },
    "papermill": {
     "duration": 0.016754,
     "end_time": "2025-07-05T21:30:16.932371",
     "exception": false,
     "start_time": "2025-07-05T21:30:16.915617",
     "status": "completed"
    },
    "tags": []
   },
   "outputs": [],
   "source": [
    "X=df[\"Email Text\"]\n",
    "Y=df['email_type_encoded']"
   ]
  },
  {
   "cell_type": "markdown",
   "id": "a0cbcf13",
   "metadata": {
    "papermill": {
     "duration": 0.008449,
     "end_time": "2025-07-05T21:30:16.955137",
     "exception": false,
     "start_time": "2025-07-05T21:30:16.946688",
     "status": "completed"
    },
    "tags": []
   },
   "source": [
    "# ##  Train-Test\n",
    "\n",
    " ****Let's allocate 80% of the data for training and 20% for testing.(test_size=0.2)****\n",
    "\n",
    "\n",
    "The main reason for dividing the data set into training and testing is to accurately evaluate the model's learning and generalization abilities.\n",
    "\n",
    "The model is fitted using the training dataset, and its performance is assessed on unseen test data.\n",
    "\n",
    "This step is essential to assess the model’s generalization capacity — its ability to make accurate predictions on new data.\n"
   ]
  },
  {
   "cell_type": "code",
   "execution_count": 11,
   "id": "dd4e8224",
   "metadata": {
    "execution": {
     "iopub.execute_input": "2025-07-05T21:30:16.973349Z",
     "iopub.status.busy": "2025-07-05T21:30:16.973010Z",
     "iopub.status.idle": "2025-07-05T21:30:16.982722Z",
     "shell.execute_reply": "2025-07-05T21:30:16.981516Z"
    },
    "papermill": {
     "duration": 0.0212,
     "end_time": "2025-07-05T21:30:16.984758",
     "exception": false,
     "start_time": "2025-07-05T21:30:16.963558",
     "status": "completed"
    },
    "tags": []
   },
   "outputs": [],
   "source": [
    "X_train,X_test,Y_train,Y_test=train_test_split(X,Y,test_size=0.2,random_state=20)"
   ]
  },
  {
   "cell_type": "code",
   "execution_count": 12,
   "id": "cec12902",
   "metadata": {
    "execution": {
     "iopub.execute_input": "2025-07-05T21:30:17.013469Z",
     "iopub.status.busy": "2025-07-05T21:30:17.011432Z",
     "iopub.status.idle": "2025-07-05T21:30:17.018008Z",
     "shell.execute_reply": "2025-07-05T21:30:17.016965Z"
    },
    "papermill": {
     "duration": 0.025707,
     "end_time": "2025-07-05T21:30:17.019982",
     "exception": false,
     "start_time": "2025-07-05T21:30:16.994275",
     "status": "completed"
    },
    "tags": []
   },
   "outputs": [],
   "source": [
    "feature_extraction=TfidfVectorizer(min_df=1,stop_words=\"english\",lowercase=True)\n"
   ]
  },
  {
   "cell_type": "markdown",
   "id": "9460d592",
   "metadata": {
    "papermill": {
     "duration": 0.01464,
     "end_time": "2025-07-05T21:30:17.049726",
     "exception": false,
     "start_time": "2025-07-05T21:30:17.035086",
     "status": "completed"
    },
    "tags": []
   },
   "source": [
    "TfidfVectorizer  converts each text into a series of numbers.\n",
    "\n",
    "This allows texts to be fed into the model as numerical data.\n",
    "\n",
    "min_df=1    Take words that appear in at least 1 document (does not filter out very rare ones).\n",
    "\n",
    "stop_words=‘english’    Removes meaningless words in English such as “the, and, is, in”.\n",
    "\n",
    "lowercase=True    Converts all words in the text to lowercase (Hello → hello)."
   ]
  },
  {
   "cell_type": "markdown",
   "id": "a2021738",
   "metadata": {
    "papermill": {
     "duration": 0.014192,
     "end_time": "2025-07-05T21:30:17.078484",
     "exception": false,
     "start_time": "2025-07-05T21:30:17.064292",
     "status": "completed"
    },
    "tags": []
   },
   "source": [
    "****Let's make X_train and X_test suitable for entering the model using feature_extraction.****\n"
   ]
  },
  {
   "cell_type": "code",
   "execution_count": 13,
   "id": "6a1924bc",
   "metadata": {
    "execution": {
     "iopub.execute_input": "2025-07-05T21:30:17.108970Z",
     "iopub.status.busy": "2025-07-05T21:30:17.108624Z",
     "iopub.status.idle": "2025-07-05T21:30:23.120242Z",
     "shell.execute_reply": "2025-07-05T21:30:23.119100Z"
    },
    "papermill": {
     "duration": 6.028939,
     "end_time": "2025-07-05T21:30:23.121926",
     "exception": false,
     "start_time": "2025-07-05T21:30:17.092987",
     "status": "completed"
    },
    "tags": []
   },
   "outputs": [],
   "source": [
    "X_train_features=feature_extraction.fit_transform(X_train)\n",
    "\n",
    "X_test_features=feature_extraction.transform(X_test)"
   ]
  },
  {
   "cell_type": "markdown",
   "id": "ea4a2dfd",
   "metadata": {
    "papermill": {
     "duration": 0.008223,
     "end_time": "2025-07-05T21:30:23.138831",
     "exception": false,
     "start_time": "2025-07-05T21:30:23.130608",
     "status": "completed"
    },
    "tags": []
   },
   "source": [
    "****X_train_features:****\n",
    "\n",
    "It is first trained (fit) with the TF-IDF vectorizer, then transformed.\n",
    "\n",
    "In other words: which words are present, how important each word is → is learned and converted into numbers.\n",
    "\n",
    "****X_test_features:****\n",
    "\n",
    "The test data is only converted (not fitted!) using the same rules.\n",
    "\n",
    "The test data is converted to a vector based on the words learned from the training data."
   ]
  },
  {
   "cell_type": "markdown",
   "id": "80690ff6",
   "metadata": {
    "papermill": {
     "duration": 0.008298,
     "end_time": "2025-07-05T21:30:23.155409",
     "exception": false,
     "start_time": "2025-07-05T21:30:23.147111",
     "status": "completed"
    },
    "tags": []
   },
   "source": [
    "****Model****"
   ]
  },
  {
   "cell_type": "code",
   "execution_count": 14,
   "id": "32e5606f",
   "metadata": {
    "execution": {
     "iopub.execute_input": "2025-07-05T21:30:23.173475Z",
     "iopub.status.busy": "2025-07-05T21:30:23.173091Z",
     "iopub.status.idle": "2025-07-05T21:30:25.613315Z",
     "shell.execute_reply": "2025-07-05T21:30:25.612548Z"
    },
    "papermill": {
     "duration": 2.451886,
     "end_time": "2025-07-05T21:30:25.615588",
     "exception": false,
     "start_time": "2025-07-05T21:30:23.163702",
     "status": "completed"
    },
    "tags": []
   },
   "outputs": [
    {
     "data": {
      "text/html": [
       "<style>#sk-container-id-1 {color: black;background-color: white;}#sk-container-id-1 pre{padding: 0;}#sk-container-id-1 div.sk-toggleable {background-color: white;}#sk-container-id-1 label.sk-toggleable__label {cursor: pointer;display: block;width: 100%;margin-bottom: 0;padding: 0.3em;box-sizing: border-box;text-align: center;}#sk-container-id-1 label.sk-toggleable__label-arrow:before {content: \"▸\";float: left;margin-right: 0.25em;color: #696969;}#sk-container-id-1 label.sk-toggleable__label-arrow:hover:before {color: black;}#sk-container-id-1 div.sk-estimator:hover label.sk-toggleable__label-arrow:before {color: black;}#sk-container-id-1 div.sk-toggleable__content {max-height: 0;max-width: 0;overflow: hidden;text-align: left;background-color: #f0f8ff;}#sk-container-id-1 div.sk-toggleable__content pre {margin: 0.2em;color: black;border-radius: 0.25em;background-color: #f0f8ff;}#sk-container-id-1 input.sk-toggleable__control:checked~div.sk-toggleable__content {max-height: 200px;max-width: 100%;overflow: auto;}#sk-container-id-1 input.sk-toggleable__control:checked~label.sk-toggleable__label-arrow:before {content: \"▾\";}#sk-container-id-1 div.sk-estimator input.sk-toggleable__control:checked~label.sk-toggleable__label {background-color: #d4ebff;}#sk-container-id-1 div.sk-label input.sk-toggleable__control:checked~label.sk-toggleable__label {background-color: #d4ebff;}#sk-container-id-1 input.sk-hidden--visually {border: 0;clip: rect(1px 1px 1px 1px);clip: rect(1px, 1px, 1px, 1px);height: 1px;margin: -1px;overflow: hidden;padding: 0;position: absolute;width: 1px;}#sk-container-id-1 div.sk-estimator {font-family: monospace;background-color: #f0f8ff;border: 1px dotted black;border-radius: 0.25em;box-sizing: border-box;margin-bottom: 0.5em;}#sk-container-id-1 div.sk-estimator:hover {background-color: #d4ebff;}#sk-container-id-1 div.sk-parallel-item::after {content: \"\";width: 100%;border-bottom: 1px solid gray;flex-grow: 1;}#sk-container-id-1 div.sk-label:hover label.sk-toggleable__label {background-color: #d4ebff;}#sk-container-id-1 div.sk-serial::before {content: \"\";position: absolute;border-left: 1px solid gray;box-sizing: border-box;top: 0;bottom: 0;left: 50%;z-index: 0;}#sk-container-id-1 div.sk-serial {display: flex;flex-direction: column;align-items: center;background-color: white;padding-right: 0.2em;padding-left: 0.2em;position: relative;}#sk-container-id-1 div.sk-item {position: relative;z-index: 1;}#sk-container-id-1 div.sk-parallel {display: flex;align-items: stretch;justify-content: center;background-color: white;position: relative;}#sk-container-id-1 div.sk-item::before, #sk-container-id-1 div.sk-parallel-item::before {content: \"\";position: absolute;border-left: 1px solid gray;box-sizing: border-box;top: 0;bottom: 0;left: 50%;z-index: -1;}#sk-container-id-1 div.sk-parallel-item {display: flex;flex-direction: column;z-index: 1;position: relative;background-color: white;}#sk-container-id-1 div.sk-parallel-item:first-child::after {align-self: flex-end;width: 50%;}#sk-container-id-1 div.sk-parallel-item:last-child::after {align-self: flex-start;width: 50%;}#sk-container-id-1 div.sk-parallel-item:only-child::after {width: 0;}#sk-container-id-1 div.sk-dashed-wrapped {border: 1px dashed gray;margin: 0 0.4em 0.5em 0.4em;box-sizing: border-box;padding-bottom: 0.4em;background-color: white;}#sk-container-id-1 div.sk-label label {font-family: monospace;font-weight: bold;display: inline-block;line-height: 1.2em;}#sk-container-id-1 div.sk-label-container {text-align: center;}#sk-container-id-1 div.sk-container {/* jupyter's `normalize.less` sets `[hidden] { display: none; }` but bootstrap.min.css set `[hidden] { display: none !important; }` so we also need the `!important` here to be able to override the default hidden behavior on the sphinx rendered scikit-learn.org. See: https://github.com/scikit-learn/scikit-learn/issues/21755 */display: inline-block !important;position: relative;}#sk-container-id-1 div.sk-text-repr-fallback {display: none;}</style><div id=\"sk-container-id-1\" class=\"sk-top-container\"><div class=\"sk-text-repr-fallback\"><pre>LogisticRegression()</pre><b>In a Jupyter environment, please rerun this cell to show the HTML representation or trust the notebook. <br />On GitHub, the HTML representation is unable to render, please try loading this page with nbviewer.org.</b></div><div class=\"sk-container\" hidden><div class=\"sk-item\"><div class=\"sk-estimator sk-toggleable\"><input class=\"sk-toggleable__control sk-hidden--visually\" id=\"sk-estimator-id-1\" type=\"checkbox\" checked><label for=\"sk-estimator-id-1\" class=\"sk-toggleable__label sk-toggleable__label-arrow\">LogisticRegression</label><div class=\"sk-toggleable__content\"><pre>LogisticRegression()</pre></div></div></div></div></div>"
      ],
      "text/plain": [
       "LogisticRegression()"
      ]
     },
     "execution_count": 14,
     "metadata": {},
     "output_type": "execute_result"
    }
   ],
   "source": [
    "model = LogisticRegression()\n",
    "model.fit(X_train_features, Y_train)"
   ]
  },
  {
   "cell_type": "code",
   "execution_count": 15,
   "id": "5b9c8ba2",
   "metadata": {
    "execution": {
     "iopub.execute_input": "2025-07-05T21:30:25.645070Z",
     "iopub.status.busy": "2025-07-05T21:30:25.644724Z",
     "iopub.status.idle": "2025-07-05T21:30:25.676919Z",
     "shell.execute_reply": "2025-07-05T21:30:25.676173Z"
    },
    "papermill": {
     "duration": 0.049082,
     "end_time": "2025-07-05T21:30:25.678811",
     "exception": false,
     "start_time": "2025-07-05T21:30:25.629729",
     "status": "completed"
    },
    "tags": []
   },
   "outputs": [
    {
     "name": "stdout",
     "output_type": "stream",
     "text": [
      "Accuracy: 0.9834299917149959\n",
      "              precision    recall  f1-score   support\n",
      "\n",
      "           0       0.98      0.99      0.99      2220\n",
      "           1       0.98      0.97      0.98      1401\n",
      "\n",
      "    accuracy                           0.98      3621\n",
      "   macro avg       0.98      0.98      0.98      3621\n",
      "weighted avg       0.98      0.98      0.98      3621\n",
      "\n",
      "[[2197   23]\n",
      " [  37 1364]]\n"
     ]
    }
   ],
   "source": [
    "y_pred = model.predict(X_test_features)\n",
    "\n",
    "\n",
    "print(\"Accuracy:\", accuracy_score(Y_test, y_pred))\n",
    "print(classification_report(Y_test, y_pred))\n",
    "print(confusion_matrix(Y_test, y_pred))"
   ]
  },
  {
   "cell_type": "markdown",
   "id": "3776545c",
   "metadata": {
    "papermill": {
     "duration": 0.013822,
     "end_time": "2025-07-05T21:30:25.707312",
     "exception": false,
     "start_time": "2025-07-05T21:30:25.693490",
     "status": "completed"
    },
    "tags": []
   },
   "source": [
    "****Accuracy:****\n",
    " 0.983, which means the model correctly predicts approximately 98% of the test data.\n",
    "\n",
    "****Precision:****\n",
    "\n",
    "Safe emails (0): 0.98\n",
    "\n",
    "Phishing emails (1): 0.98\n",
    "→ The model makes very few false alarms.\n",
    "\n",
    "****Recall:****\n",
    "\n",
    "Safe emails (0): 0.99\n",
    "\n",
    "Phishing emails (1): 0.97\n",
    "\n",
    "→ It successfully detects almost all phishing emails.\n",
    "\n",
    "****F1-Score:****\n",
    "\n",
    "Safe: 0.99\n",
    "\n",
    "Phishing: 0.98\n",
    "\n",
    "→ Balanced and reliable predictions for both classes."
   ]
  },
  {
   "cell_type": "markdown",
   "id": "e82a42c4",
   "metadata": {
    "papermill": {
     "duration": 0.008552,
     "end_time": "2025-07-05T21:30:25.726609",
     "exception": false,
     "start_time": "2025-07-05T21:30:25.718057",
     "status": "completed"
    },
    "tags": []
   },
   "source": [
    "# ## Confusion Matrix"
   ]
  },
  {
   "cell_type": "code",
   "execution_count": 16,
   "id": "4f563167",
   "metadata": {
    "execution": {
     "iopub.execute_input": "2025-07-05T21:30:25.745176Z",
     "iopub.status.busy": "2025-07-05T21:30:25.744849Z",
     "iopub.status.idle": "2025-07-05T21:30:26.699919Z",
     "shell.execute_reply": "2025-07-05T21:30:26.698971Z"
    },
    "papermill": {
     "duration": 0.966373,
     "end_time": "2025-07-05T21:30:26.701660",
     "exception": false,
     "start_time": "2025-07-05T21:30:25.735287",
     "status": "completed"
    },
    "tags": []
   },
   "outputs": [
    {
     "data": {
      "image/png": "[encoded data removed]",
      "text/plain": [
       "<Figure size 600x400 with 2 Axes>"
      ]
     },
     "metadata": {},
     "output_type": "display_data"
    }
   ],
   "source": [
    "import matplotlib.pyplot as plt\n",
    "import seaborn as sns\n",
    "from sklearn.metrics import confusion_matrix\n",
    "\n",
    "# Confusion matrix \n",
    "cm = np.array([\n",
    "    [2197 ,  23],\n",
    " [ 37, 1364]])\n",
    "\n",
    "plt.figure(figsize=(6, 4))\n",
    "sns.heatmap(cm, annot=True, fmt='d', cmap='Blues', xticklabels=[\"Predicted Safe\", \"Predicted Phishing\"], yticklabels=[\"Actual Safe\", \"Actual Phishing\"])\n",
    "plt.title(\"Confusion Matrix\")\n",
    "plt.ylabel(\"Actual\")\n",
    "plt.xlabel(\"Predicted\")\n",
    "plt.show()"
   ]
  },
  {
   "cell_type": "markdown",
   "id": "0f3fb0ed",
   "metadata": {
    "papermill": {
     "duration": 0.009108,
     "end_time": "2025-07-05T21:30:26.720406",
     "exception": false,
     "start_time": "2025-07-05T21:30:26.711298",
     "status": "completed"
    },
    "tags": []
   },
   "source": [
    "The model predicts that 37 of the phishing emails are safe.\n",
    "\n",
    "The model predicts that 23 of the safe emails are phishing."
   ]
  },
  {
   "cell_type": "markdown",
   "id": "5100b6e9",
   "metadata": {
    "papermill": {
     "duration": 0.008975,
     "end_time": "2025-07-05T21:30:26.738613",
     "exception": false,
     "start_time": "2025-07-05T21:30:26.729638",
     "status": "completed"
    },
    "tags": []
   },
   "source": [
    "****We can analyze the incorrect predictions to understand where the model fails.****"
   ]
  },
  {
   "cell_type": "code",
   "execution_count": 17,
   "id": "9a757f94",
   "metadata": {
    "execution": {
     "iopub.execute_input": "2025-07-05T21:30:26.758522Z",
     "iopub.status.busy": "2025-07-05T21:30:26.758028Z",
     "iopub.status.idle": "2025-07-05T21:30:26.767489Z",
     "shell.execute_reply": "2025-07-05T21:30:26.766377Z"
    },
    "papermill": {
     "duration": 0.021474,
     "end_time": "2025-07-05T21:30:26.769191",
     "exception": false,
     "start_time": "2025-07-05T21:30:26.747717",
     "status": "completed"
    },
    "tags": []
   },
   "outputs": [],
   "source": [
    "results_df = pd.DataFrame({\n",
    "    'Text': X_test.reset_index(drop=True),\n",
    "    'True Label': Y_test.reset_index(drop=True),\n",
    "    'Predicted Label': y_pred\n",
    "})\n",
    "\n",
    "\n",
    "wrong_preds = results_df[results_df['True Label'] != results_df['Predicted Label']]"
   ]
  },
  {
   "cell_type": "code",
   "execution_count": 18,
   "id": "92cb8e48",
   "metadata": {
    "execution": {
     "iopub.execute_input": "2025-07-05T21:30:26.789703Z",
     "iopub.status.busy": "2025-07-05T21:30:26.789376Z",
     "iopub.status.idle": "2025-07-05T21:30:26.803477Z",
     "shell.execute_reply": "2025-07-05T21:30:26.802269Z"
    },
    "papermill": {
     "duration": 0.026449,
     "end_time": "2025-07-05T21:30:26.805255",
     "exception": false,
     "start_time": "2025-07-05T21:30:26.778806",
     "status": "completed"
    },
    "tags": []
   },
   "outputs": [
    {
     "data": {
      "text/html": [
       "<div>\n",
       "<style scoped>\n",
       "    .dataframe tbody tr th:only-of-type {\n",
       "        vertical-align: middle;\n",
       "    }\n",
       "\n",
       "    .dataframe tbody tr th {\n",
       "        vertical-align: top;\n",
       "    }\n",
       "\n",
       "    .dataframe thead th {\n",
       "        text-align: right;\n",
       "    }\n",
       "</style>\n",
       "<table border=\"1\" class=\"dataframe\">\n",
       "  <thead>\n",
       "    <tr style=\"text-align: right;\">\n",
       "      <th></th>\n",
       "      <th>Text</th>\n",
       "      <th>True Label</th>\n",
       "      <th>Predicted Label</th>\n",
       "    </tr>\n",
       "  </thead>\n",
       "  <tbody>\n",
       "    <tr>\n",
       "      <th>6</th>\n",
       "      <td>So, a new family moved in down the street, wit...</td>\n",
       "      <td>0</td>\n",
       "      <td>1</td>\n",
       "    </tr>\n",
       "    <tr>\n",
       "      <th>109</th>\n",
       "      <td>as a promising energy professional . . . indus...</td>\n",
       "      <td>0</td>\n",
       "      <td>1</td>\n",
       "    </tr>\n",
       "    <tr>\n",
       "      <th>112</th>\n",
       "      <td>ad - it ' s amazing how differently the girls ...</td>\n",
       "      <td>1</td>\n",
       "      <td>0</td>\n",
       "    </tr>\n",
       "    <tr>\n",
       "      <th>149</th>\n",
       "      <td>referred by , james hi , i found following web...</td>\n",
       "      <td>1</td>\n",
       "      <td>0</td>\n",
       "    </tr>\n",
       "    <tr>\n",
       "      <th>294</th>\n",
       "      <td>new accts : exclusive free ebooks , software ,...</td>\n",
       "      <td>1</td>\n",
       "      <td>0</td>\n",
       "    </tr>\n",
       "    <tr>\n",
       "      <th>351</th>\n",
       "      <td>fortune here ' s the fortune link . . .</td>\n",
       "      <td>0</td>\n",
       "      <td>1</td>\n",
       "    </tr>\n",
       "    <tr>\n",
       "      <th>370</th>\n",
       "      <td>wndows x , p home update minnesota , which can...</td>\n",
       "      <td>1</td>\n",
       "      <td>0</td>\n",
       "    </tr>\n",
       "    <tr>\n",
       "      <th>459</th>\n",
       "      <td>&gt;&gt;From the BBC website - www.bbc.co.uk Tuesday...</td>\n",
       "      <td>0</td>\n",
       "      <td>1</td>\n",
       "    </tr>\n",
       "    <tr>\n",
       "      <th>526</th>\n",
       "      <td>e - mail hey daren , is this your e - mail add...</td>\n",
       "      <td>0</td>\n",
       "      <td>1</td>\n",
       "    </tr>\n",
       "    <tr>\n",
       "      <th>589</th>\n",
       "      <td>41 . npe . girth ? really lay the pipe to the ...</td>\n",
       "      <td>1</td>\n",
       "      <td>0</td>\n",
       "    </tr>\n",
       "    <tr>\n",
       "      <th>649</th>\n",
       "      <td>\\n RootsSearch.net: \\nOnline \\n        Auction...</td>\n",
       "      <td>1</td>\n",
       "      <td>0</td>\n",
       "    </tr>\n",
       "    <tr>\n",
       "      <th>697</th>\n",
       "      <td>welcome to - energy news live dear vincent kam...</td>\n",
       "      <td>0</td>\n",
       "      <td>1</td>\n",
       "    </tr>\n",
       "    <tr>\n",
       "      <th>708</th>\n",
       "      <td>Congrats, in the end...\\n&gt; \"If they didn't hav...</td>\n",
       "      <td>0</td>\n",
       "      <td>1</td>\n",
       "    </tr>\n",
       "    <tr>\n",
       "      <th>720</th>\n",
       "      <td>industry forum # 136 the industry forum minute...</td>\n",
       "      <td>1</td>\n",
       "      <td>0</td>\n",
       "    </tr>\n",
       "    <tr>\n",
       "      <th>749</th>\n",
       "      <td>Yes, it's nice to be back in America's flaccid...</td>\n",
       "      <td>0</td>\n",
       "      <td>1</td>\n",
       "    </tr>\n",
       "    <tr>\n",
       "      <th>905</th>\n",
       "      <td>jeanie whittaker qhc 775 bryce manning - http ...</td>\n",
       "      <td>1</td>\n",
       "      <td>0</td>\n",
       "    </tr>\n",
       "    <tr>\n",
       "      <th>1027</th>\n",
       "      <td>\\nA groys gesheft zol er hobn mit shroyre vus ...</td>\n",
       "      <td>0</td>\n",
       "      <td>1</td>\n",
       "    </tr>\n",
       "    <tr>\n",
       "      <th>1083</th>\n",
       "      <td>industry forum # 136 the industry forum minute...</td>\n",
       "      <td>1</td>\n",
       "      <td>0</td>\n",
       "    </tr>\n",
       "    <tr>\n",
       "      <th>1105</th>\n",
       "      <td>1800 watt fuer sauberkeit in ihren raeumen pro...</td>\n",
       "      <td>1</td>\n",
       "      <td>0</td>\n",
       "    </tr>\n",
       "    <tr>\n",
       "      <th>1113</th>\n",
       "      <td>call for papers : the international joint conf...</td>\n",
       "      <td>1</td>\n",
       "      <td>0</td>\n",
       "    </tr>\n",
       "    <tr>\n",
       "      <th>1172</th>\n",
       "      <td>re : hi , finally i got rid of the ' p . p . t...</td>\n",
       "      <td>1</td>\n",
       "      <td>0</td>\n",
       "    </tr>\n",
       "    <tr>\n",
       "      <th>1192</th>\n",
       "      <td>anadarko and union pacific resources merged co...</td>\n",
       "      <td>0</td>\n",
       "      <td>1</td>\n",
       "    </tr>\n",
       "    <tr>\n",
       "      <th>1335</th>\n",
       "      <td>fw : quips &gt; remember , amateurs built the ark...</td>\n",
       "      <td>0</td>\n",
       "      <td>1</td>\n",
       "    </tr>\n",
       "    <tr>\n",
       "      <th>1393</th>\n",
       "      <td>Anyone heard of this law before?&gt; Q. Can I get...</td>\n",
       "      <td>0</td>\n",
       "      <td>1</td>\n",
       "    </tr>\n",
       "    <tr>\n",
       "      <th>1446</th>\n",
       "      <td>please print hi honey please print this too . ...</td>\n",
       "      <td>0</td>\n",
       "      <td>1</td>\n",
       "    </tr>\n",
       "    <tr>\n",
       "      <th>1461</th>\n",
       "      <td>kingwood cove - free green fees ! thanks for b...</td>\n",
       "      <td>0</td>\n",
       "      <td>1</td>\n",
       "    </tr>\n",
       "    <tr>\n",
       "      <th>1469</th>\n",
       "      <td>\\nForwarded-by: William Knowles http://mdn.mai...</td>\n",
       "      <td>0</td>\n",
       "      <td>1</td>\n",
       "    </tr>\n",
       "    <tr>\n",
       "      <th>1497</th>\n",
       "      <td>why i love unverifiable voting machines , by t...</td>\n",
       "      <td>1</td>\n",
       "      <td>0</td>\n",
       "    </tr>\n",
       "    <tr>\n",
       "      <th>1524</th>\n",
       "      <td>e l e c t r i c i a n hello , rich resume for ...</td>\n",
       "      <td>1</td>\n",
       "      <td>0</td>\n",
       "    </tr>\n",
       "    <tr>\n",
       "      <th>1574</th>\n",
       "      <td>department of energy is deploying a corporate ...</td>\n",
       "      <td>0</td>\n",
       "      <td>1</td>\n",
       "    </tr>\n",
       "    <tr>\n",
       "      <th>1640</th>\n",
       "      <td>ë÷îä £ ¨ ± ± ý © ¡ Üéïß £ ¡ ÜÞãöÝ £ © · ­ ?ëÞ ...</td>\n",
       "      <td>1</td>\n",
       "      <td>0</td>\n",
       "    </tr>\n",
       "    <tr>\n",
       "      <th>1758</th>\n",
       "      <td>california prices have fun !</td>\n",
       "      <td>0</td>\n",
       "      <td>1</td>\n",
       "    </tr>\n",
       "    <tr>\n",
       "      <th>1824</th>\n",
       "      <td>meeting on monday unsubscribe ogle irreconcila...</td>\n",
       "      <td>1</td>\n",
       "      <td>0</td>\n",
       "    </tr>\n",
       "    <tr>\n",
       "      <th>1869</th>\n",
       "      <td>the stock trading gunslinger fanny is merrill ...</td>\n",
       "      <td>1</td>\n",
       "      <td>0</td>\n",
       "    </tr>\n",
       "    <tr>\n",
       "      <th>1939</th>\n",
       "      <td>LIFETIME MOVIE NEWSLETTERThis Week's Movies to...</td>\n",
       "      <td>0</td>\n",
       "      <td>1</td>\n",
       "    </tr>\n",
       "    <tr>\n",
       "      <th>1949</th>\n",
       "      <td>astounding it is a real relief for people who ...</td>\n",
       "      <td>1</td>\n",
       "      <td>0</td>\n",
       "    </tr>\n",
       "    <tr>\n",
       "      <th>2071</th>\n",
       "      <td>agriculture - translation service technical tr...</td>\n",
       "      <td>1</td>\n",
       "      <td>0</td>\n",
       "    </tr>\n",
       "    <tr>\n",
       "      <th>2081</th>\n",
       "      <td>re [ 13 ] : dr . dree ricky martin in 1963 lar...</td>\n",
       "      <td>1</td>\n",
       "      <td>0</td>\n",
       "    </tr>\n",
       "    <tr>\n",
       "      <th>2170</th>\n",
       "      <td>great article : mpgs will put you in jail r - ...</td>\n",
       "      <td>1</td>\n",
       "      <td>0</td>\n",
       "    </tr>\n",
       "    <tr>\n",
       "      <th>2174</th>\n",
       "      <td>\\nIt was the best of times, it was the worst o...</td>\n",
       "      <td>0</td>\n",
       "      <td>1</td>\n",
       "    </tr>\n",
       "    <tr>\n",
       "      <th>2234</th>\n",
       "      <td>phamacy online hangable pine smolder discrete ...</td>\n",
       "      <td>1</td>\n",
       "      <td>0</td>\n",
       "    </tr>\n",
       "    <tr>\n",
       "      <th>2260</th>\n",
       "      <td>&gt; Seriously though, it spurs the question: sho...</td>\n",
       "      <td>0</td>\n",
       "      <td>1</td>\n",
       "    </tr>\n",
       "    <tr>\n",
       "      <th>2326</th>\n",
       "      <td>PRESS RELEASE FROM THE AYN RAND INSTITUTE\\n212...</td>\n",
       "      <td>0</td>\n",
       "      <td>1</td>\n",
       "    </tr>\n",
       "    <tr>\n",
       "      <th>2329</th>\n",
       "      <td>from fanny , recommending nek dear sir or mada...</td>\n",
       "      <td>1</td>\n",
       "      <td>0</td>\n",
       "    </tr>\n",
       "    <tr>\n",
       "      <th>2344</th>\n",
       "      <td>We offer some of the best bulk e-mail prices o...</td>\n",
       "      <td>1</td>\n",
       "      <td>0</td>\n",
       "    </tr>\n",
       "    <tr>\n",
       "      <th>2371</th>\n",
       "      <td>\\nGREEN CARD\\nfunction Go() \\n{\\nwindow.locati...</td>\n",
       "      <td>1</td>\n",
       "      <td>0</td>\n",
       "    </tr>\n",
       "    <tr>\n",
       "      <th>2392</th>\n",
       "      <td>reverse osteoporosis a nice looking web site r...</td>\n",
       "      <td>1</td>\n",
       "      <td>0</td>\n",
       "    </tr>\n",
       "    <tr>\n",
       "      <th>2423</th>\n",
       "      <td>innovative big sized seencs i know the face , ...</td>\n",
       "      <td>1</td>\n",
       "      <td>0</td>\n",
       "    </tr>\n",
       "    <tr>\n",
       "      <th>2592</th>\n",
       "      <td>windows xp &amp; office xp - &gt; $ 80 . neutrality i...</td>\n",
       "      <td>1</td>\n",
       "      <td>0</td>\n",
       "    </tr>\n",
       "    <tr>\n",
       "      <th>2688</th>\n",
       "      <td>INSIGHT NEWS ALERT!A new issue of Insight on t...</td>\n",
       "      <td>1</td>\n",
       "      <td>0</td>\n",
       "    </tr>\n",
       "    <tr>\n",
       "      <th>2734</th>\n",
       "      <td>conference in dc . july 20 - 21 , 2005 4 th re...</td>\n",
       "      <td>1</td>\n",
       "      <td>0</td>\n",
       "    </tr>\n",
       "    <tr>\n",
       "      <th>2773</th>\n",
       "      <td>genie video update i have received many inquir...</td>\n",
       "      <td>0</td>\n",
       "      <td>1</td>\n",
       "    </tr>\n",
       "    <tr>\n",
       "      <th>2797</th>\n",
       "      <td>re [ 21 ] i ' ll get a porter when the do not ...</td>\n",
       "      <td>1</td>\n",
       "      <td>0</td>\n",
       "    </tr>\n",
       "    <tr>\n",
       "      <th>2801</th>\n",
       "      <td>no more work out ' s heya , are you not seeing...</td>\n",
       "      <td>1</td>\n",
       "      <td>0</td>\n",
       "    </tr>\n",
       "    <tr>\n",
       "      <th>2856</th>\n",
       "      <td>chess board widows living with 3481 hi</td>\n",
       "      <td>1</td>\n",
       "      <td>0</td>\n",
       "    </tr>\n",
       "    <tr>\n",
       "      <th>3106</th>\n",
       "      <td>send me cigarattes html body center a href = h...</td>\n",
       "      <td>1</td>\n",
       "      <td>0</td>\n",
       "    </tr>\n",
       "    <tr>\n",
       "      <th>3348</th>\n",
       "      <td>you have been asked to join kiddin the list ow...</td>\n",
       "      <td>1</td>\n",
       "      <td>0</td>\n",
       "    </tr>\n",
       "    <tr>\n",
       "      <th>3446</th>\n",
       "      <td>the situation is right under your own control ...</td>\n",
       "      <td>1</td>\n",
       "      <td>0</td>\n",
       "    </tr>\n",
       "    <tr>\n",
       "      <th>3606</th>\n",
       "      <td>armenian genocide plagues ankara 90 years on f...</td>\n",
       "      <td>1</td>\n",
       "      <td>0</td>\n",
       "    </tr>\n",
       "    <tr>\n",
       "      <th>3610</th>\n",
       "      <td>flood pictures from the tunnels under pennzoil...</td>\n",
       "      <td>0</td>\n",
       "      <td>1</td>\n",
       "    </tr>\n",
       "  </tbody>\n",
       "</table>\n",
       "</div>"
      ],
      "text/plain": [
       "                                                   Text  True Label  \\\n",
       "6     So, a new family moved in down the street, wit...           0   \n",
       "109   as a promising energy professional . . . indus...           0   \n",
       "112   ad - it ' s amazing how differently the girls ...           1   \n",
       "149   referred by , james hi , i found following web...           1   \n",
       "294   new accts : exclusive free ebooks , software ,...           1   \n",
       "351             fortune here ' s the fortune link . . .           0   \n",
       "370   wndows x , p home update minnesota , which can...           1   \n",
       "459   >>From the BBC website - www.bbc.co.uk Tuesday...           0   \n",
       "526   e - mail hey daren , is this your e - mail add...           0   \n",
       "589   41 . npe . girth ? really lay the pipe to the ...           1   \n",
       "649   \\n RootsSearch.net: \\nOnline \\n        Auction...           1   \n",
       "697   welcome to - energy news live dear vincent kam...           0   \n",
       "708   Congrats, in the end...\\n> \"If they didn't hav...           0   \n",
       "720   industry forum # 136 the industry forum minute...           1   \n",
       "749   Yes, it's nice to be back in America's flaccid...           0   \n",
       "905   jeanie whittaker qhc 775 bryce manning - http ...           1   \n",
       "1027  \\nA groys gesheft zol er hobn mit shroyre vus ...           0   \n",
       "1083  industry forum # 136 the industry forum minute...           1   \n",
       "1105  1800 watt fuer sauberkeit in ihren raeumen pro...           1   \n",
       "1113  call for papers : the international joint conf...           1   \n",
       "1172  re : hi , finally i got rid of the ' p . p . t...           1   \n",
       "1192  anadarko and union pacific resources merged co...           0   \n",
       "1335  fw : quips > remember , amateurs built the ark...           0   \n",
       "1393  Anyone heard of this law before?> Q. Can I get...           0   \n",
       "1446  please print hi honey please print this too . ...           0   \n",
       "1461  kingwood cove - free green fees ! thanks for b...           0   \n",
       "1469  \\nForwarded-by: William Knowles http://mdn.mai...           0   \n",
       "1497  why i love unverifiable voting machines , by t...           1   \n",
       "1524  e l e c t r i c i a n hello , rich resume for ...           1   \n",
       "1574  department of energy is deploying a corporate ...           0   \n",
       "1640  ë÷îä £ ¨ ± ± ý © ¡ Üéïß £ ¡ ÜÞãöÝ £ © · ­ ?ëÞ ...           1   \n",
       "1758                       california prices have fun !           0   \n",
       "1824  meeting on monday unsubscribe ogle irreconcila...           1   \n",
       "1869  the stock trading gunslinger fanny is merrill ...           1   \n",
       "1939  LIFETIME MOVIE NEWSLETTERThis Week's Movies to...           0   \n",
       "1949  astounding it is a real relief for people who ...           1   \n",
       "2071  agriculture - translation service technical tr...           1   \n",
       "2081  re [ 13 ] : dr . dree ricky martin in 1963 lar...           1   \n",
       "2170  great article : mpgs will put you in jail r - ...           1   \n",
       "2174  \\nIt was the best of times, it was the worst o...           0   \n",
       "2234  phamacy online hangable pine smolder discrete ...           1   \n",
       "2260  > Seriously though, it spurs the question: sho...           0   \n",
       "2326  PRESS RELEASE FROM THE AYN RAND INSTITUTE\\n212...           0   \n",
       "2329  from fanny , recommending nek dear sir or mada...           1   \n",
       "2344  We offer some of the best bulk e-mail prices o...           1   \n",
       "2371  \\nGREEN CARD\\nfunction Go() \\n{\\nwindow.locati...           1   \n",
       "2392  reverse osteoporosis a nice looking web site r...           1   \n",
       "2423  innovative big sized seencs i know the face , ...           1   \n",
       "2592  windows xp & office xp - > $ 80 . neutrality i...           1   \n",
       "2688  INSIGHT NEWS ALERT!A new issue of Insight on t...           1   \n",
       "2734  conference in dc . july 20 - 21 , 2005 4 th re...           1   \n",
       "2773  genie video update i have received many inquir...           0   \n",
       "2797  re [ 21 ] i ' ll get a porter when the do not ...           1   \n",
       "2801  no more work out ' s heya , are you not seeing...           1   \n",
       "2856             chess board widows living with 3481 hi           1   \n",
       "3106  send me cigarattes html body center a href = h...           1   \n",
       "3348  you have been asked to join kiddin the list ow...           1   \n",
       "3446  the situation is right under your own control ...           1   \n",
       "3606  armenian genocide plagues ankara 90 years on f...           1   \n",
       "3610  flood pictures from the tunnels under pennzoil...           0   \n",
       "\n",
       "      Predicted Label  \n",
       "6                   1  \n",
       "109                 1  \n",
       "112                 0  \n",
       "149                 0  \n",
       "294                 0  \n",
       "351                 1  \n",
       "370                 0  \n",
       "459                 1  \n",
       "526                 1  \n",
       "589                 0  \n",
       "649                 0  \n",
       "697                 1  \n",
       "708                 1  \n",
       "720                 0  \n",
       "749                 1  \n",
       "905                 0  \n",
       "1027                1  \n",
       "1083                0  \n",
       "1105                0  \n",
       "1113                0  \n",
       "1172                0  \n",
       "1192                1  \n",
       "1335                1  \n",
       "1393                1  \n",
       "1446                1  \n",
       "1461                1  \n",
       "1469                1  \n",
       "1497                0  \n",
       "1524                0  \n",
       "1574                1  \n",
       "1640                0  \n",
       "1758                1  \n",
       "1824                0  \n",
       "1869                0  \n",
       "1939                1  \n",
       "1949                0  \n",
       "2071                0  \n",
       "2081                0  \n",
       "2170                0  \n",
       "2174                1  \n",
       "2234                0  \n",
       "2260                1  \n",
       "2326                1  \n",
       "2329                0  \n",
       "2344                0  \n",
       "2371                0  \n",
       "2392                0  \n",
       "2423                0  \n",
       "2592                0  \n",
       "2688                0  \n",
       "2734                0  \n",
       "2773                1  \n",
       "2797                0  \n",
       "2801                0  \n",
       "2856                0  \n",
       "3106                0  \n",
       "3348                0  \n",
       "3446                0  \n",
       "3606                0  \n",
       "3610                1  "
      ]
     },
     "execution_count": 18,
     "metadata": {},
     "output_type": "execute_result"
    }
   ],
   "source": [
    "wrong_preds"
   ]
  },
  {
   "cell_type": "markdown",
   "id": "53d34831",
   "metadata": {
    "papermill": {
     "duration": 0.009981,
     "end_time": "2025-07-05T21:30:26.825830",
     "exception": false,
     "start_time": "2025-07-05T21:30:26.815849",
     "status": "completed"
    },
    "tags": []
   },
   "source": [
    "# Does cleaning the Email Text lead to better model performance?"
   ]
  },
  {
   "cell_type": "markdown",
   "id": "a252f817",
   "metadata": {
    "papermill": {
     "duration": 0.009717,
     "end_time": "2025-07-05T21:30:26.845390",
     "exception": false,
     "start_time": "2025-07-05T21:30:26.835673",
     "status": "completed"
    },
    "tags": []
   },
   "source": [
    "****Write the words in lowercase****"
   ]
  },
  {
   "cell_type": "code",
   "execution_count": 19,
   "id": "dcd1560a",
   "metadata": {
    "execution": {
     "iopub.execute_input": "2025-07-05T21:30:26.866775Z",
     "iopub.status.busy": "2025-07-05T21:30:26.866426Z",
     "iopub.status.idle": "2025-07-05T21:30:29.080895Z",
     "shell.execute_reply": "2025-07-05T21:30:29.079760Z"
    },
    "papermill": {
     "duration": 2.227431,
     "end_time": "2025-07-05T21:30:29.082812",
     "exception": false,
     "start_time": "2025-07-05T21:30:26.855381",
     "status": "completed"
    },
    "tags": []
   },
   "outputs": [],
   "source": [
    "df[\"Email Text\"]=df[\"Email Text\"].apply(lambda x: \" \".join(x.lower()for x in x.split()))\n"
   ]
  },
  {
   "cell_type": "markdown",
   "id": "24aedb9b",
   "metadata": {
    "papermill": {
     "duration": 0.009887,
     "end_time": "2025-07-05T21:30:29.103161",
     "exception": false,
     "start_time": "2025-07-05T21:30:29.093274",
     "status": "completed"
    },
    "tags": []
   },
   "source": [
    "****Remove punctuation marks and numbers****"
   ]
  },
  {
   "cell_type": "code",
   "execution_count": 20,
   "id": "bc4e7eac",
   "metadata": {
    "execution": {
     "iopub.execute_input": "2025-07-05T21:30:29.124611Z",
     "iopub.status.busy": "2025-07-05T21:30:29.124235Z",
     "iopub.status.idle": "2025-07-05T21:30:31.576441Z",
     "shell.execute_reply": "2025-07-05T21:30:31.575609Z"
    },
    "papermill": {
     "duration": 2.465035,
     "end_time": "2025-07-05T21:30:31.578179",
     "exception": false,
     "start_time": "2025-07-05T21:30:29.113144",
     "status": "completed"
    },
    "tags": []
   },
   "outputs": [],
   "source": [
    "df[\"Email Text\"]=df[\"Email Text\"].str.replace(r\"[^\\w\\s]\",\"\",regex=True)\n",
    "df[\"Email Text\"]=df[\"Email Text\"].str.replace(r\"\\d\",\"\",regex=True)"
   ]
  },
  {
   "cell_type": "markdown",
   "id": "b57a0c50",
   "metadata": {
    "papermill": {
     "duration": 0.009676,
     "end_time": "2025-07-05T21:30:31.597869",
     "exception": false,
     "start_time": "2025-07-05T21:30:31.588193",
     "status": "completed"
    },
    "tags": []
   },
   "source": [
    "****Lemmetization****\n",
    "\n",
    "Lemmatization is the process of converting a word to its root form in the field of natural language processing (NLP)."
   ]
  },
  {
   "cell_type": "code",
   "execution_count": 21,
   "id": "9e80e854",
   "metadata": {
    "execution": {
     "iopub.execute_input": "2025-07-05T21:30:31.619031Z",
     "iopub.status.busy": "2025-07-05T21:30:31.618683Z",
     "iopub.status.idle": "2025-07-05T21:31:29.039228Z",
     "shell.execute_reply": "2025-07-05T21:31:29.038038Z"
    },
    "papermill": {
     "duration": 57.433612,
     "end_time": "2025-07-05T21:31:29.041209",
     "exception": false,
     "start_time": "2025-07-05T21:30:31.607597",
     "status": "completed"
    },
    "tags": []
   },
   "outputs": [
    {
     "name": "stdout",
     "output_type": "stream",
     "text": [
      "Requirement already satisfied: textblob in /usr/local/lib/python3.11/dist-packages (0.19.0)\r\n",
      "Requirement already satisfied: nltk>=3.9 in /usr/local/lib/python3.11/dist-packages (from textblob) (3.9.1)\r\n",
      "Requirement already satisfied: click in /usr/local/lib/python3.11/dist-packages (from nltk>=3.9->textblob) (8.1.8)\r\n",
      "Requirement already satisfied: joblib in /usr/local/lib/python3.11/dist-packages (from nltk>=3.9->textblob) (1.5.0)\r\n",
      "Requirement already satisfied: regex>=2021.8.3 in /usr/local/lib/python3.11/dist-packages (from nltk>=3.9->textblob) (2024.11.6)\r\n",
      "Requirement already satisfied: tqdm in /usr/local/lib/python3.11/dist-packages (from nltk>=3.9->textblob) (4.67.1)\r\n",
      "Requirement already satisfied: nltk in /usr/local/lib/python3.11/dist-packages (3.9.1)\r\n",
      "Requirement already satisfied: click in /usr/local/lib/python3.11/dist-packages (from nltk) (8.1.8)\r\n",
      "Requirement already satisfied: joblib in /usr/local/lib/python3.11/dist-packages (from nltk) (1.5.0)\r\n",
      "Requirement already satisfied: regex>=2021.8.3 in /usr/local/lib/python3.11/dist-packages (from nltk) (2024.11.6)\r\n",
      "Requirement already satisfied: tqdm in /usr/local/lib/python3.11/dist-packages (from nltk) (4.67.1)\r\n"
     ]
    },
    {
     "name": "stderr",
     "output_type": "stream",
     "text": [
      "[nltk_data] Downloading package omw-1.4 to /usr/share/nltk_data...\n",
      "[nltk_data] Downloading package wordnet to /usr/share/nltk_data...\n",
      "[nltk_data]   Package wordnet is already up-to-date!\n"
     ]
    }
   ],
   "source": [
    "!pip install textblob\n",
    "from textblob import Word\n",
    "!pip install nltk\n",
    "import nltk\n",
    "nltk.download(\"omw-1.4\")\n",
    "nltk.download(\"wordnet\")\n",
    "\n",
    "\n",
    "df[\"Email Text\"]=df[\"Email Text\"].apply(lambda x: \" \".join(Word(i).lemmatize() for i in x.split()))"
   ]
  },
  {
   "cell_type": "code",
   "execution_count": 22,
   "id": "27f4c9e4",
   "metadata": {
    "execution": {
     "iopub.execute_input": "2025-07-05T21:31:29.063575Z",
     "iopub.status.busy": "2025-07-05T21:31:29.063153Z",
     "iopub.status.idle": "2025-07-05T21:31:29.075355Z",
     "shell.execute_reply": "2025-07-05T21:31:29.074405Z"
    },
    "papermill": {
     "duration": 0.025142,
     "end_time": "2025-07-05T21:31:29.076925",
     "exception": false,
     "start_time": "2025-07-05T21:31:29.051783",
     "status": "completed"
    },
    "tags": []
   },
   "outputs": [
    {
     "data": {
      "text/html": [
       "<div>\n",
       "<style scoped>\n",
       "    .dataframe tbody tr th:only-of-type {\n",
       "        vertical-align: middle;\n",
       "    }\n",
       "\n",
       "    .dataframe tbody tr th {\n",
       "        vertical-align: top;\n",
       "    }\n",
       "\n",
       "    .dataframe thead th {\n",
       "        text-align: right;\n",
       "    }\n",
       "</style>\n",
       "<table border=\"1\" class=\"dataframe\">\n",
       "  <thead>\n",
       "    <tr style=\"text-align: right;\">\n",
       "      <th></th>\n",
       "      <th>Unnamed: 0</th>\n",
       "      <th>Email Text</th>\n",
       "      <th>Email Type</th>\n",
       "      <th>email_type_encoded</th>\n",
       "    </tr>\n",
       "  </thead>\n",
       "  <tbody>\n",
       "    <tr>\n",
       "      <th>0</th>\n",
       "      <td>0</td>\n",
       "      <td>re disc uniformitarianism re sex lang dick hud...</td>\n",
       "      <td>Safe Email</td>\n",
       "      <td>0</td>\n",
       "    </tr>\n",
       "    <tr>\n",
       "      <th>1</th>\n",
       "      <td>1</td>\n",
       "      <td>the other side of galicismos galicismo is a sp...</td>\n",
       "      <td>Safe Email</td>\n",
       "      <td>0</td>\n",
       "    </tr>\n",
       "    <tr>\n",
       "      <th>2</th>\n",
       "      <td>2</td>\n",
       "      <td>re equistar deal ticket are you still availabl...</td>\n",
       "      <td>Safe Email</td>\n",
       "      <td>0</td>\n",
       "    </tr>\n",
       "    <tr>\n",
       "      <th>3</th>\n",
       "      <td>3</td>\n",
       "      <td>hello i am your hot lil horny toy i am the one...</td>\n",
       "      <td>Phishing Email</td>\n",
       "      <td>1</td>\n",
       "    </tr>\n",
       "    <tr>\n",
       "      <th>4</th>\n",
       "      <td>4</td>\n",
       "      <td>software at incredibly low price lower drapery...</td>\n",
       "      <td>Phishing Email</td>\n",
       "      <td>1</td>\n",
       "    </tr>\n",
       "    <tr>\n",
       "      <th>...</th>\n",
       "      <td>...</td>\n",
       "      <td>...</td>\n",
       "      <td>...</td>\n",
       "      <td>...</td>\n",
       "    </tr>\n",
       "    <tr>\n",
       "      <th>18644</th>\n",
       "      <td>18645</td>\n",
       "      <td>rick moen a ãcrit im confused i thought it wa ...</td>\n",
       "      <td>Safe Email</td>\n",
       "      <td>0</td>\n",
       "    </tr>\n",
       "    <tr>\n",
       "      <th>18645</th>\n",
       "      <td>18646</td>\n",
       "      <td>date a lonely housewife always wanted to date ...</td>\n",
       "      <td>Phishing Email</td>\n",
       "      <td>1</td>\n",
       "    </tr>\n",
       "    <tr>\n",
       "      <th>18646</th>\n",
       "      <td>18647</td>\n",
       "      <td>request submitted access request for anita dup...</td>\n",
       "      <td>Safe Email</td>\n",
       "      <td>0</td>\n",
       "    </tr>\n",
       "    <tr>\n",
       "      <th>18647</th>\n",
       "      <td>18648</td>\n",
       "      <td>re important prc mtg hi dorn john a you discov...</td>\n",
       "      <td>Safe Email</td>\n",
       "      <td>0</td>\n",
       "    </tr>\n",
       "    <tr>\n",
       "      <th>18648</th>\n",
       "      <td>18649</td>\n",
       "      <td>press clipping letter on californian utility p...</td>\n",
       "      <td>Safe Email</td>\n",
       "      <td>0</td>\n",
       "    </tr>\n",
       "  </tbody>\n",
       "</table>\n",
       "<p>18101 rows × 4 columns</p>\n",
       "</div>"
      ],
      "text/plain": [
       "       Unnamed: 0                                         Email Text  \\\n",
       "0               0  re disc uniformitarianism re sex lang dick hud...   \n",
       "1               1  the other side of galicismos galicismo is a sp...   \n",
       "2               2  re equistar deal ticket are you still availabl...   \n",
       "3               3  hello i am your hot lil horny toy i am the one...   \n",
       "4               4  software at incredibly low price lower drapery...   \n",
       "...           ...                                                ...   \n",
       "18644       18645  rick moen a ãcrit im confused i thought it wa ...   \n",
       "18645       18646  date a lonely housewife always wanted to date ...   \n",
       "18646       18647  request submitted access request for anita dup...   \n",
       "18647       18648  re important prc mtg hi dorn john a you discov...   \n",
       "18648       18649  press clipping letter on californian utility p...   \n",
       "\n",
       "           Email Type  email_type_encoded  \n",
       "0          Safe Email                   0  \n",
       "1          Safe Email                   0  \n",
       "2          Safe Email                   0  \n",
       "3      Phishing Email                   1  \n",
       "4      Phishing Email                   1  \n",
       "...               ...                 ...  \n",
       "18644      Safe Email                   0  \n",
       "18645  Phishing Email                   1  \n",
       "18646      Safe Email                   0  \n",
       "18647      Safe Email                   0  \n",
       "18648      Safe Email                   0  \n",
       "\n",
       "[18101 rows x 4 columns]"
      ]
     },
     "execution_count": 22,
     "metadata": {},
     "output_type": "execute_result"
    }
   ],
   "source": [
    "df\n"
   ]
  },
  {
   "cell_type": "markdown",
   "id": "faba0557",
   "metadata": {
    "papermill": {
     "duration": 0.010425,
     "end_time": "2025-07-05T21:31:29.098310",
     "exception": false,
     "start_time": "2025-07-05T21:31:29.087885",
     "status": "completed"
    },
    "tags": []
   },
   "source": [
    "****Use X1 as the new X and build a new Logistic model.****"
   ]
  },
  {
   "cell_type": "code",
   "execution_count": 23,
   "id": "538b9e15",
   "metadata": {
    "execution": {
     "iopub.execute_input": "2025-07-05T21:31:29.120970Z",
     "iopub.status.busy": "2025-07-05T21:31:29.120608Z",
     "iopub.status.idle": "2025-07-05T21:31:29.142462Z",
     "shell.execute_reply": "2025-07-05T21:31:29.141398Z"
    },
    "papermill": {
     "duration": 0.035443,
     "end_time": "2025-07-05T21:31:29.144288",
     "exception": false,
     "start_time": "2025-07-05T21:31:29.108845",
     "status": "completed"
    },
    "tags": []
   },
   "outputs": [],
   "source": [
    "X1=df[\"Email Text\"]\n",
    "X_train,X_test,Y_train,Y_test=train_test_split(X1,Y,test_size=0.2,random_state=20)"
   ]
  },
  {
   "cell_type": "code",
   "execution_count": 24,
   "id": "e2d70def",
   "metadata": {
    "execution": {
     "iopub.execute_input": "2025-07-05T21:31:29.167622Z",
     "iopub.status.busy": "2025-07-05T21:31:29.166554Z",
     "iopub.status.idle": "2025-07-05T21:31:34.542568Z",
     "shell.execute_reply": "2025-07-05T21:31:34.541561Z"
    },
    "papermill": {
     "duration": 5.389514,
     "end_time": "2025-07-05T21:31:34.544475",
     "exception": false,
     "start_time": "2025-07-05T21:31:29.154961",
     "status": "completed"
    },
    "tags": []
   },
   "outputs": [],
   "source": [
    "X_train_features=feature_extraction.fit_transform(X_train)\n",
    "\n",
    "X_test_features=feature_extraction.transform(X_test)"
   ]
  },
  {
   "cell_type": "code",
   "execution_count": 25,
   "id": "1c25fffa",
   "metadata": {
    "execution": {
     "iopub.execute_input": "2025-07-05T21:31:34.568192Z",
     "iopub.status.busy": "2025-07-05T21:31:34.567829Z",
     "iopub.status.idle": "2025-07-05T21:31:37.358924Z",
     "shell.execute_reply": "2025-07-05T21:31:37.358085Z"
    },
    "papermill": {
     "duration": 2.805203,
     "end_time": "2025-07-05T21:31:37.361032",
     "exception": false,
     "start_time": "2025-07-05T21:31:34.555829",
     "status": "completed"
    },
    "tags": []
   },
   "outputs": [
    {
     "data": {
      "text/html": [
       "<style>#sk-container-id-2 {color: black;background-color: white;}#sk-container-id-2 pre{padding: 0;}#sk-container-id-2 div.sk-toggleable {background-color: white;}#sk-container-id-2 label.sk-toggleable__label {cursor: pointer;display: block;width: 100%;margin-bottom: 0;padding: 0.3em;box-sizing: border-box;text-align: center;}#sk-container-id-2 label.sk-toggleable__label-arrow:before {content: \"▸\";float: left;margin-right: 0.25em;color: #696969;}#sk-container-id-2 label.sk-toggleable__label-arrow:hover:before {color: black;}#sk-container-id-2 div.sk-estimator:hover label.sk-toggleable__label-arrow:before {color: black;}#sk-container-id-2 div.sk-toggleable__content {max-height: 0;max-width: 0;overflow: hidden;text-align: left;background-color: #f0f8ff;}#sk-container-id-2 div.sk-toggleable__content pre {margin: 0.2em;color: black;border-radius: 0.25em;background-color: #f0f8ff;}#sk-container-id-2 input.sk-toggleable__control:checked~div.sk-toggleable__content {max-height: 200px;max-width: 100%;overflow: auto;}#sk-container-id-2 input.sk-toggleable__control:checked~label.sk-toggleable__label-arrow:before {content: \"▾\";}#sk-container-id-2 div.sk-estimator input.sk-toggleable__control:checked~label.sk-toggleable__label {background-color: #d4ebff;}#sk-container-id-2 div.sk-label input.sk-toggleable__control:checked~label.sk-toggleable__label {background-color: #d4ebff;}#sk-container-id-2 input.sk-hidden--visually {border: 0;clip: rect(1px 1px 1px 1px);clip: rect(1px, 1px, 1px, 1px);height: 1px;margin: -1px;overflow: hidden;padding: 0;position: absolute;width: 1px;}#sk-container-id-2 div.sk-estimator {font-family: monospace;background-color: #f0f8ff;border: 1px dotted black;border-radius: 0.25em;box-sizing: border-box;margin-bottom: 0.5em;}#sk-container-id-2 div.sk-estimator:hover {background-color: #d4ebff;}#sk-container-id-2 div.sk-parallel-item::after {content: \"\";width: 100%;border-bottom: 1px solid gray;flex-grow: 1;}#sk-container-id-2 div.sk-label:hover label.sk-toggleable__label {background-color: #d4ebff;}#sk-container-id-2 div.sk-serial::before {content: \"\";position: absolute;border-left: 1px solid gray;box-sizing: border-box;top: 0;bottom: 0;left: 50%;z-index: 0;}#sk-container-id-2 div.sk-serial {display: flex;flex-direction: column;align-items: center;background-color: white;padding-right: 0.2em;padding-left: 0.2em;position: relative;}#sk-container-id-2 div.sk-item {position: relative;z-index: 1;}#sk-container-id-2 div.sk-parallel {display: flex;align-items: stretch;justify-content: center;background-color: white;position: relative;}#sk-container-id-2 div.sk-item::before, #sk-container-id-2 div.sk-parallel-item::before {content: \"\";position: absolute;border-left: 1px solid gray;box-sizing: border-box;top: 0;bottom: 0;left: 50%;z-index: -1;}#sk-container-id-2 div.sk-parallel-item {display: flex;flex-direction: column;z-index: 1;position: relative;background-color: white;}#sk-container-id-2 div.sk-parallel-item:first-child::after {align-self: flex-end;width: 50%;}#sk-container-id-2 div.sk-parallel-item:last-child::after {align-self: flex-start;width: 50%;}#sk-container-id-2 div.sk-parallel-item:only-child::after {width: 0;}#sk-container-id-2 div.sk-dashed-wrapped {border: 1px dashed gray;margin: 0 0.4em 0.5em 0.4em;box-sizing: border-box;padding-bottom: 0.4em;background-color: white;}#sk-container-id-2 div.sk-label label {font-family: monospace;font-weight: bold;display: inline-block;line-height: 1.2em;}#sk-container-id-2 div.sk-label-container {text-align: center;}#sk-container-id-2 div.sk-container {/* jupyter's `normalize.less` sets `[hidden] { display: none; }` but bootstrap.min.css set `[hidden] { display: none !important; }` so we also need the `!important` here to be able to override the default hidden behavior on the sphinx rendered scikit-learn.org. See: https://github.com/scikit-learn/scikit-learn/issues/21755 */display: inline-block !important;position: relative;}#sk-container-id-2 div.sk-text-repr-fallback {display: none;}</style><div id=\"sk-container-id-2\" class=\"sk-top-container\"><div class=\"sk-text-repr-fallback\"><pre>LogisticRegression()</pre><b>In a Jupyter environment, please rerun this cell to show the HTML representation or trust the notebook. <br />On GitHub, the HTML representation is unable to render, please try loading this page with nbviewer.org.</b></div><div class=\"sk-container\" hidden><div class=\"sk-item\"><div class=\"sk-estimator sk-toggleable\"><input class=\"sk-toggleable__control sk-hidden--visually\" id=\"sk-estimator-id-2\" type=\"checkbox\" checked><label for=\"sk-estimator-id-2\" class=\"sk-toggleable__label sk-toggleable__label-arrow\">LogisticRegression</label><div class=\"sk-toggleable__content\"><pre>LogisticRegression()</pre></div></div></div></div></div>"
      ],
      "text/plain": [
       "LogisticRegression()"
      ]
     },
     "execution_count": 25,
     "metadata": {},
     "output_type": "execute_result"
    }
   ],
   "source": [
    "model = LogisticRegression()\n",
    "model.fit(X_train_features, Y_train)"
   ]
  },
  {
   "cell_type": "code",
   "execution_count": 26,
   "id": "58fd2e01",
   "metadata": {
    "execution": {
     "iopub.execute_input": "2025-07-05T21:31:37.397556Z",
     "iopub.status.busy": "2025-07-05T21:31:37.397180Z",
     "iopub.status.idle": "2025-07-05T21:31:37.430081Z",
     "shell.execute_reply": "2025-07-05T21:31:37.429262Z"
    },
    "papermill": {
     "duration": 0.054046,
     "end_time": "2025-07-05T21:31:37.432208",
     "exception": false,
     "start_time": "2025-07-05T21:31:37.378162",
     "status": "completed"
    },
    "tags": []
   },
   "outputs": [
    {
     "name": "stdout",
     "output_type": "stream",
     "text": [
      "Accuracy: 0.975973487986744\n",
      "              precision    recall  f1-score   support\n",
      "\n",
      "           0       0.97      0.99      0.98      2220\n",
      "           1       0.98      0.96      0.97      1401\n",
      "\n",
      "    accuracy                           0.98      3621\n",
      "   macro avg       0.98      0.97      0.97      3621\n",
      "weighted avg       0.98      0.98      0.98      3621\n",
      "\n",
      "[[2193   27]\n",
      " [  60 1341]]\n"
     ]
    }
   ],
   "source": [
    "y_pred = model.predict(X_test_features)\n",
    "\n",
    "\n",
    "print(\"Accuracy:\", accuracy_score(Y_test, y_pred))\n",
    "print(classification_report(Y_test, y_pred))\n",
    "print(confusion_matrix(Y_test, y_pred))"
   ]
  },
  {
   "cell_type": "code",
   "execution_count": 27,
   "id": "c124a6af",
   "metadata": {
    "execution": {
     "iopub.execute_input": "2025-07-05T21:31:37.469171Z",
     "iopub.status.busy": "2025-07-05T21:31:37.468810Z",
     "iopub.status.idle": "2025-07-05T21:31:37.681682Z",
     "shell.execute_reply": "2025-07-05T21:31:37.680738Z"
    },
    "papermill": {
     "duration": 0.23345,
     "end_time": "2025-07-05T21:31:37.683270",
     "exception": false,
     "start_time": "2025-07-05T21:31:37.449820",
     "status": "completed"
    },
    "tags": []
   },
   "outputs": [
    {
     "data": {
      "image/png": "[encoded data removed]",
      "text/plain": [
       "<Figure size 600x400 with 2 Axes>"
      ]
     },
     "metadata": {},
     "output_type": "display_data"
    }
   ],
   "source": [
    "# Confusion matrix \n",
    "cm = np.array([[2193 ,  27],\n",
    " [  60 ,1341]])\n",
    "\n",
    "plt.figure(figsize=(6, 4))\n",
    "sns.heatmap(cm, annot=True, fmt='d', cmap='Blues', xticklabels=[\"Predicted Safe\", \"Predicted Phishing\"], yticklabels=[\"Actual Safe\", \"Actual Phishing\"])\n",
    "plt.title(\"Confusion Matrix\")\n",
    "plt.ylabel(\"Actual\")\n",
    "plt.xlabel(\"Predicted\")\n",
    "plt.show()"
   ]
  },
  {
   "cell_type": "markdown",
   "id": "adf7a13c",
   "metadata": {
    "papermill": {
     "duration": 0.011346,
     "end_time": "2025-07-05T21:31:37.706718",
     "exception": false,
     "start_time": "2025-07-05T21:31:37.695372",
     "status": "completed"
    },
    "tags": []
   },
   "source": [
    "Accuracy: 0.975       It is decreased\n",
    "\n",
    "Wrong predicts are increased\n",
    "\n",
    "The model is performing worse than before."
   ]
  },
  {
   "cell_type": "markdown",
   "id": "4f57a26a",
   "metadata": {
    "papermill": {
     "duration": 0.010964,
     "end_time": "2025-07-05T21:31:37.728741",
     "exception": false,
     "start_time": "2025-07-05T21:31:37.717777",
     "status": "completed"
    },
    "tags": []
   },
   "source": [
    "****Generally, data cleaning improves model prediction, but in our data it decreased it slightly.****"
   ]
  }
 ],
 "metadata": {
  "kaggle": {
   "accelerator": "none",
   "dataSources": [
    {
     "datasetId": 3487818,
     "sourceId": 6090437,
     "sourceType": "datasetVersion"
    }
   ],
   "dockerImageVersionId": 31040,
   "isGpuEnabled": false,
   "isInternetEnabled": true,
   "language": "python",
   "sourceType": "notebook"
  },
  "kernelspec": {
   "display_name": "Python 3",
   "language": "python",
   "name": "python3"
  },
  "language_info": {
   "codemirror_mode": {
    "name": "ipython",
    "version": 3
   },
   "file_extension": ".py",
   "mimetype": "text/x-python",
   "name": "python",
   "nbconvert_exporter": "python",
   "pygments_lexer": "ipython3",
   "version": "3.11.11"
  },
  "papermill": {
   "default_parameters": {},
   "duration": 92.729565,
   "end_time": "2025-07-05T21:31:38.863524",
   "environment_variables": {},
   "exception": null,
   "input_path": "__notebook__.ipynb",
   "output_path": "__notebook__.ipynb",
   "parameters": {},
   "start_time": "2025-07-05T21:30:06.133959",
   "version": "2.6.0"
  }
 },
 "nbformat": 4,
 "nbformat_minor": 5
}
