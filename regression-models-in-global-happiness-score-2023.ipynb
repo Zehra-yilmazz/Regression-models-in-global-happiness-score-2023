{
 "cells": [
  {
   "cell_type": "markdown",
   "id": "bbbfca4e",
   "metadata": {
    "papermill": {
     "duration": 0.006935,
     "end_time": "2025-05-25T15:35:04.648093",
     "exception": false,
     "start_time": "2025-05-25T15:35:04.641158",
     "status": "completed"
    },
    "tags": []
   },
   "source": [
    "# GLOBAL HAPPINESS SCORE 2023 \n"
   ]
  },
  {
   "cell_type": "markdown",
   "id": "ae57e210",
   "metadata": {
    "papermill": {
     "duration": 0.005786,
     "end_time": "2025-05-25T15:35:04.661487",
     "exception": false,
     "start_time": "2025-05-25T15:35:04.655701",
     "status": "completed"
    },
    "tags": []
   },
   "source": [
    " # IMPORT DATA"
   ]
  },
  {
   "cell_type": "code",
   "execution_count": 1,
   "id": "893192ce",
   "metadata": {
    "_cell_guid": "b1076dfc-b9ad-4769-8c92-a6c4dae69d19",
    "_uuid": "8f2839f25d086af736a60e9eeb907d3b93b6e0e5",
    "execution": {
     "iopub.execute_input": "2025-05-25T15:35:04.675057Z",
     "iopub.status.busy": "2025-05-25T15:35:04.674731Z",
     "iopub.status.idle": "2025-05-25T15:35:06.713023Z",
     "shell.execute_reply": "2025-05-25T15:35:06.711747Z"
    },
    "papermill": {
     "duration": 2.047553,
     "end_time": "2025-05-25T15:35:06.715125",
     "exception": false,
     "start_time": "2025-05-25T15:35:04.667572",
     "status": "completed"
    },
    "tags": []
   },
   "outputs": [],
   "source": [
    "import pandas as pd\n",
    "data1=pd.read_csv(\"/kaggle/input/global-happiness-scores-and-factors/WHR_2023.csv\")"
   ]
  },
  {
   "cell_type": "markdown",
   "id": "72c761e0",
   "metadata": {
    "papermill": {
     "duration": 0.010754,
     "end_time": "2025-05-25T15:35:06.733167",
     "exception": false,
     "start_time": "2025-05-25T15:35:06.722413",
     "status": "completed"
    },
    "tags": []
   },
   "source": [
    "# EXAMINE DATA"
   ]
  },
  {
   "cell_type": "markdown",
   "id": "473735aa",
   "metadata": {
    "papermill": {
     "duration": 0.00748,
     "end_time": "2025-05-25T15:35:06.747289",
     "exception": false,
     "start_time": "2025-05-25T15:35:06.739809",
     "status": "completed"
    },
    "tags": []
   },
   "source": [
    "The World Happiness Score 2023 dataset provides a comprehensive and up-to-date examination of happiness indicators and factors affecting global well-being. The variables in the dataset are:\n",
    "\n",
    "country: A character-type variable that represents the name of the countries.\n",
    "\n",
    "region: A categorical variable indicating the region to which a country belongs.\n",
    "\n",
    "happiness_score: A measure that reflects overall happiness.\n",
    "\n",
    "gdp_per_capita: A measure indicating the Gross Domestic Product per capita.\n",
    "\n",
    "social_support: An indicator that measures the level of social support.\n",
    "\n",
    "healthy_life_expectancy: A measure of the expected years of healthy life.\n",
    "\n",
    "freedom_to_make_life_choices: An indicator measuring freedom in making life choices.\n",
    "\n",
    "generosity: A measure reflecting the level of generosity.\n",
    "\n",
    "perceptions_of_corruption: A measure of the perceived level of corruption in a country.# "
   ]
  },
  {
   "cell_type": "markdown",
   "id": "a8406c88",
   "metadata": {
    "papermill": {
     "duration": 0.007402,
     "end_time": "2025-05-25T15:35:06.762581",
     "exception": false,
     "start_time": "2025-05-25T15:35:06.755179",
     "status": "completed"
    },
    "tags": []
   },
   "source": [
    "Let's examine the types of variables in the dataset and how many times each occurs"
   ]
  },
  {
   "cell_type": "code",
   "execution_count": 2,
   "id": "c202b59e",
   "metadata": {
    "execution": {
     "iopub.execute_input": "2025-05-25T15:35:06.778057Z",
     "iopub.status.busy": "2025-05-25T15:35:06.777781Z",
     "iopub.status.idle": "2025-05-25T15:35:06.810629Z",
     "shell.execute_reply": "2025-05-25T15:35:06.809451Z"
    },
    "papermill": {
     "duration": 0.04147,
     "end_time": "2025-05-25T15:35:06.812220",
     "exception": false,
     "start_time": "2025-05-25T15:35:06.770750",
     "status": "completed"
    },
    "tags": []
   },
   "outputs": [
    {
     "name": "stdout",
     "output_type": "stream",
     "text": [
      "<class 'pandas.core.frame.DataFrame'>\n",
      "RangeIndex: 137 entries, 0 to 136\n",
      "Data columns (total 9 columns):\n",
      " #   Column                        Non-Null Count  Dtype  \n",
      "---  ------                        --------------  -----  \n",
      " 0   country                       137 non-null    object \n",
      " 1   region                        137 non-null    object \n",
      " 2   happiness_score               137 non-null    float64\n",
      " 3   gdp_per_capita                137 non-null    float64\n",
      " 4   social_support                137 non-null    float64\n",
      " 5   healthy_life_expectancy       136 non-null    float64\n",
      " 6   freedom_to_make_life_choices  137 non-null    float64\n",
      " 7   generosity                    137 non-null    float64\n",
      " 8   perceptions_of_corruption     137 non-null    float64\n",
      "dtypes: float64(7), object(2)\n",
      "memory usage: 9.8+ KB\n"
     ]
    }
   ],
   "source": [
    "data1.info()"
   ]
  },
  {
   "cell_type": "markdown",
   "id": "204c3635",
   "metadata": {
    "papermill": {
     "duration": 0.005941,
     "end_time": "2025-05-25T15:35:06.824343",
     "exception": false,
     "start_time": "2025-05-25T15:35:06.818402",
     "status": "completed"
    },
    "tags": []
   },
   "source": [
    "Let's look at the descriptive statistics of the variables."
   ]
  },
  {
   "cell_type": "code",
   "execution_count": 3,
   "id": "5b25e5e1",
   "metadata": {
    "execution": {
     "iopub.execute_input": "2025-05-25T15:35:06.837692Z",
     "iopub.status.busy": "2025-05-25T15:35:06.837312Z",
     "iopub.status.idle": "2025-05-25T15:35:06.889238Z",
     "shell.execute_reply": "2025-05-25T15:35:06.888021Z"
    },
    "papermill": {
     "duration": 0.060981,
     "end_time": "2025-05-25T15:35:06.891274",
     "exception": false,
     "start_time": "2025-05-25T15:35:06.830293",
     "status": "completed"
    },
    "tags": []
   },
   "outputs": [
    {
     "data": {
      "text/html": [
       "<div>\n",
       "<style scoped>\n",
       "    .dataframe tbody tr th:only-of-type {\n",
       "        vertical-align: middle;\n",
       "    }\n",
       "\n",
       "    .dataframe tbody tr th {\n",
       "        vertical-align: top;\n",
       "    }\n",
       "\n",
       "    .dataframe thead th {\n",
       "        text-align: right;\n",
       "    }\n",
       "</style>\n",
       "<table border=\"1\" class=\"dataframe\">\n",
       "  <thead>\n",
       "    <tr style=\"text-align: right;\">\n",
       "      <th></th>\n",
       "      <th>happiness_score</th>\n",
       "      <th>gdp_per_capita</th>\n",
       "      <th>social_support</th>\n",
       "      <th>healthy_life_expectancy</th>\n",
       "      <th>freedom_to_make_life_choices</th>\n",
       "      <th>generosity</th>\n",
       "      <th>perceptions_of_corruption</th>\n",
       "    </tr>\n",
       "  </thead>\n",
       "  <tbody>\n",
       "    <tr>\n",
       "      <th>count</th>\n",
       "      <td>137.000000</td>\n",
       "      <td>137.000000</td>\n",
       "      <td>137.000000</td>\n",
       "      <td>136.000000</td>\n",
       "      <td>137.000000</td>\n",
       "      <td>137.000000</td>\n",
       "      <td>137.000000</td>\n",
       "    </tr>\n",
       "    <tr>\n",
       "      <th>mean</th>\n",
       "      <td>5.539796</td>\n",
       "      <td>1.406985</td>\n",
       "      <td>1.156212</td>\n",
       "      <td>0.366176</td>\n",
       "      <td>0.540000</td>\n",
       "      <td>0.148474</td>\n",
       "      <td>0.145898</td>\n",
       "    </tr>\n",
       "    <tr>\n",
       "      <th>std</th>\n",
       "      <td>1.139929</td>\n",
       "      <td>0.432963</td>\n",
       "      <td>0.326322</td>\n",
       "      <td>0.156691</td>\n",
       "      <td>0.149501</td>\n",
       "      <td>0.076053</td>\n",
       "      <td>0.126723</td>\n",
       "    </tr>\n",
       "    <tr>\n",
       "      <th>min</th>\n",
       "      <td>1.859000</td>\n",
       "      <td>0.000000</td>\n",
       "      <td>0.000000</td>\n",
       "      <td>0.000000</td>\n",
       "      <td>0.000000</td>\n",
       "      <td>0.000000</td>\n",
       "      <td>0.000000</td>\n",
       "    </tr>\n",
       "    <tr>\n",
       "      <th>25%</th>\n",
       "      <td>4.724000</td>\n",
       "      <td>1.099000</td>\n",
       "      <td>0.962000</td>\n",
       "      <td>0.248500</td>\n",
       "      <td>0.455000</td>\n",
       "      <td>0.097000</td>\n",
       "      <td>0.060000</td>\n",
       "    </tr>\n",
       "    <tr>\n",
       "      <th>50%</th>\n",
       "      <td>5.684000</td>\n",
       "      <td>1.449000</td>\n",
       "      <td>1.227000</td>\n",
       "      <td>0.389500</td>\n",
       "      <td>0.557000</td>\n",
       "      <td>0.137000</td>\n",
       "      <td>0.111000</td>\n",
       "    </tr>\n",
       "    <tr>\n",
       "      <th>75%</th>\n",
       "      <td>6.334000</td>\n",
       "      <td>1.798000</td>\n",
       "      <td>1.401000</td>\n",
       "      <td>0.487500</td>\n",
       "      <td>0.656000</td>\n",
       "      <td>0.199000</td>\n",
       "      <td>0.187000</td>\n",
       "    </tr>\n",
       "    <tr>\n",
       "      <th>max</th>\n",
       "      <td>7.804000</td>\n",
       "      <td>2.200000</td>\n",
       "      <td>1.620000</td>\n",
       "      <td>0.702000</td>\n",
       "      <td>0.772000</td>\n",
       "      <td>0.422000</td>\n",
       "      <td>0.561000</td>\n",
       "    </tr>\n",
       "  </tbody>\n",
       "</table>\n",
       "</div>"
      ],
      "text/plain": [
       "       happiness_score  gdp_per_capita  social_support  \\\n",
       "count       137.000000      137.000000      137.000000   \n",
       "mean          5.539796        1.406985        1.156212   \n",
       "std           1.139929        0.432963        0.326322   \n",
       "min           1.859000        0.000000        0.000000   \n",
       "25%           4.724000        1.099000        0.962000   \n",
       "50%           5.684000        1.449000        1.227000   \n",
       "75%           6.334000        1.798000        1.401000   \n",
       "max           7.804000        2.200000        1.620000   \n",
       "\n",
       "       healthy_life_expectancy  freedom_to_make_life_choices  generosity  \\\n",
       "count               136.000000                    137.000000  137.000000   \n",
       "mean                  0.366176                      0.540000    0.148474   \n",
       "std                   0.156691                      0.149501    0.076053   \n",
       "min                   0.000000                      0.000000    0.000000   \n",
       "25%                   0.248500                      0.455000    0.097000   \n",
       "50%                   0.389500                      0.557000    0.137000   \n",
       "75%                   0.487500                      0.656000    0.199000   \n",
       "max                   0.702000                      0.772000    0.422000   \n",
       "\n",
       "       perceptions_of_corruption  \n",
       "count                 137.000000  \n",
       "mean                    0.145898  \n",
       "std                     0.126723  \n",
       "min                     0.000000  \n",
       "25%                     0.060000  \n",
       "50%                     0.111000  \n",
       "75%                     0.187000  \n",
       "max                     0.561000  "
      ]
     },
     "execution_count": 3,
     "metadata": {},
     "output_type": "execute_result"
    }
   ],
   "source": [
    "data1.describe()"
   ]
  },
  {
   "cell_type": "markdown",
   "id": "33949a90",
   "metadata": {
    "papermill": {
     "duration": 0.009945,
     "end_time": "2025-05-25T15:35:06.910842",
     "exception": false,
     "start_time": "2025-05-25T15:35:06.900897",
     "status": "completed"
    },
    "tags": []
   },
   "source": [
    "Let's check for missing observations."
   ]
  },
  {
   "cell_type": "code",
   "execution_count": 4,
   "id": "c051d0e2",
   "metadata": {
    "execution": {
     "iopub.execute_input": "2025-05-25T15:35:06.936220Z",
     "iopub.status.busy": "2025-05-25T15:35:06.935642Z",
     "iopub.status.idle": "2025-05-25T15:35:06.946320Z",
     "shell.execute_reply": "2025-05-25T15:35:06.945165Z"
    },
    "papermill": {
     "duration": 0.025361,
     "end_time": "2025-05-25T15:35:06.948724",
     "exception": false,
     "start_time": "2025-05-25T15:35:06.923363",
     "status": "completed"
    },
    "tags": []
   },
   "outputs": [
    {
     "data": {
      "text/plain": [
       "country                         0\n",
       "region                          0\n",
       "happiness_score                 0\n",
       "gdp_per_capita                  0\n",
       "social_support                  0\n",
       "healthy_life_expectancy         1\n",
       "freedom_to_make_life_choices    0\n",
       "generosity                      0\n",
       "perceptions_of_corruption       0\n",
       "dtype: int64"
      ]
     },
     "execution_count": 4,
     "metadata": {},
     "output_type": "execute_result"
    }
   ],
   "source": [
    "data1.isnull().values.any()\n",
    "data1.isnull().sum()"
   ]
  },
  {
   "cell_type": "markdown",
   "id": "13a72ebf",
   "metadata": {
    "papermill": {
     "duration": 0.008775,
     "end_time": "2025-05-25T15:35:06.969738",
     "exception": false,
     "start_time": "2025-05-25T15:35:06.960963",
     "status": "completed"
    },
    "tags": []
   },
   "source": [
    "There is 1 missing observation in the healthy_life_expectancy variable. Since it is a numeric variable, I preferred to fill the missing observation with the average of the variable."
   ]
  },
  {
   "cell_type": "code",
   "execution_count": 5,
   "id": "4c778ab0",
   "metadata": {
    "execution": {
     "iopub.execute_input": "2025-05-25T15:35:06.992967Z",
     "iopub.status.busy": "2025-05-25T15:35:06.992649Z",
     "iopub.status.idle": "2025-05-25T15:35:07.002374Z",
     "shell.execute_reply": "2025-05-25T15:35:07.001002Z"
    },
    "papermill": {
     "duration": 0.024489,
     "end_time": "2025-05-25T15:35:07.004707",
     "exception": false,
     "start_time": "2025-05-25T15:35:06.980218",
     "status": "completed"
    },
    "tags": []
   },
   "outputs": [
    {
     "data": {
      "text/plain": [
       "False"
      ]
     },
     "execution_count": 5,
     "metadata": {},
     "output_type": "execute_result"
    }
   ],
   "source": [
    "data1.healthy_life_expectancy=data1.healthy_life_expectancy.fillna(data1.healthy_life_expectancy.mean())\n",
    "data1.isnull().values.any()"
   ]
  },
  {
   "cell_type": "markdown",
   "id": "0224e4f3",
   "metadata": {
    "papermill": {
     "duration": 0.007236,
     "end_time": "2025-05-25T15:35:07.024828",
     "exception": false,
     "start_time": "2025-05-25T15:35:07.017592",
     "status": "completed"
    },
    "tags": []
   },
   "source": [
    "Our aim in modeling will be to measure the effect of other variables in determining the happiness_score value. Therefore, happiness_score will be our response variable. country and region are not variables that affect happiness_score, so we drop these variables from the data. We will create models with x representing the independent variables and y representing the dependent variable.# "
   ]
  },
  {
   "cell_type": "code",
   "execution_count": 6,
   "id": "fb2085a2",
   "metadata": {
    "execution": {
     "iopub.execute_input": "2025-05-25T15:35:07.048414Z",
     "iopub.status.busy": "2025-05-25T15:35:07.047295Z",
     "iopub.status.idle": "2025-05-25T15:35:07.057697Z",
     "shell.execute_reply": "2025-05-25T15:35:07.056656Z"
    },
    "papermill": {
     "duration": 0.025102,
     "end_time": "2025-05-25T15:35:07.059364",
     "exception": false,
     "start_time": "2025-05-25T15:35:07.034262",
     "status": "completed"
    },
    "tags": []
   },
   "outputs": [],
   "source": [
    "data1=data1.drop([\"country\",\"region\"],axis=1)\n",
    "y=data1[[\"happiness_score\"]]\n",
    "x=data1.drop(\"happiness_score\",axis=1)"
   ]
  },
  {
   "cell_type": "code",
   "execution_count": 7,
   "id": "e57204a9",
   "metadata": {
    "execution": {
     "iopub.execute_input": "2025-05-25T15:35:07.073926Z",
     "iopub.status.busy": "2025-05-25T15:35:07.073597Z",
     "iopub.status.idle": "2025-05-25T15:35:08.892547Z",
     "shell.execute_reply": "2025-05-25T15:35:08.891509Z"
    },
    "papermill": {
     "duration": 1.828302,
     "end_time": "2025-05-25T15:35:08.894277",
     "exception": false,
     "start_time": "2025-05-25T15:35:07.065975",
     "status": "completed"
    },
    "tags": []
   },
   "outputs": [],
   "source": [
    "from sklearn.model_selection import train_test_split\n",
    "\n",
    "x_egitim,x_test,y_egitim,y_test=train_test_split(x,y,test_size=30,random_state=50)"
   ]
  },
  {
   "cell_type": "markdown",
   "id": "7149b5c4",
   "metadata": {
    "papermill": {
     "duration": 0.006379,
     "end_time": "2025-05-25T15:35:08.907524",
     "exception": false,
     "start_time": "2025-05-25T15:35:08.901145",
     "status": "completed"
    },
    "tags": []
   },
   "source": [
    "# LINEAR REGRESSION MODEL"
   ]
  },
  {
   "cell_type": "code",
   "execution_count": 8,
   "id": "ec4f9b52",
   "metadata": {
    "execution": {
     "iopub.execute_input": "2025-05-25T15:35:08.921705Z",
     "iopub.status.busy": "2025-05-25T15:35:08.921220Z",
     "iopub.status.idle": "2025-05-25T15:35:09.076516Z",
     "shell.execute_reply": "2025-05-25T15:35:09.075725Z"
    },
    "papermill": {
     "duration": 0.164341,
     "end_time": "2025-05-25T15:35:09.078191",
     "exception": false,
     "start_time": "2025-05-25T15:35:08.913850",
     "status": "completed"
    },
    "tags": []
   },
   "outputs": [
    {
     "data": {
      "text/plain": [
       "array([[0.82850578, 1.32640443, 0.43767883, 1.82244477, 0.68032134,\n",
       "        0.84192323]])"
      ]
     },
     "execution_count": 8,
     "metadata": {},
     "output_type": "execute_result"
    }
   ],
   "source": [
    "from sklearn.linear_model import LinearRegression\n",
    "model=LinearRegression()\n",
    "mod=model.fit(x_egitim,y_egitim)\n",
    "mod.coef_"
   ]
  },
  {
   "cell_type": "code",
   "execution_count": 9,
   "id": "623bbf37",
   "metadata": {
    "execution": {
     "iopub.execute_input": "2025-05-25T15:35:09.092911Z",
     "iopub.status.busy": "2025-05-25T15:35:09.092559Z",
     "iopub.status.idle": "2025-05-25T15:35:09.104677Z",
     "shell.execute_reply": "2025-05-25T15:35:09.103685Z"
    },
    "papermill": {
     "duration": 0.021369,
     "end_time": "2025-05-25T15:35:09.106120",
     "exception": false,
     "start_time": "2025-05-25T15:35:09.084751",
     "status": "completed"
    },
    "tags": []
   },
   "outputs": [
    {
     "data": {
      "text/html": [
       "<div>\n",
       "<style scoped>\n",
       "    .dataframe tbody tr th:only-of-type {\n",
       "        vertical-align: middle;\n",
       "    }\n",
       "\n",
       "    .dataframe tbody tr th {\n",
       "        vertical-align: top;\n",
       "    }\n",
       "\n",
       "    .dataframe thead th {\n",
       "        text-align: right;\n",
       "    }\n",
       "</style>\n",
       "<table border=\"1\" class=\"dataframe\">\n",
       "  <thead>\n",
       "    <tr style=\"text-align: right;\">\n",
       "      <th></th>\n",
       "      <th>0</th>\n",
       "      <th>1</th>\n",
       "      <th>2</th>\n",
       "      <th>3</th>\n",
       "      <th>4</th>\n",
       "      <th>5</th>\n",
       "    </tr>\n",
       "  </thead>\n",
       "  <tbody>\n",
       "    <tr>\n",
       "      <th>0</th>\n",
       "      <td>gdp_per_capita</td>\n",
       "      <td>social_support</td>\n",
       "      <td>healthy_life_expectancy</td>\n",
       "      <td>freedom_to_make_life_choices</td>\n",
       "      <td>generosity</td>\n",
       "      <td>perceptions_of_corruption</td>\n",
       "    </tr>\n",
       "    <tr>\n",
       "      <th>1</th>\n",
       "      <td>0.828506</td>\n",
       "      <td>1.326404</td>\n",
       "      <td>0.437679</td>\n",
       "      <td>1.822445</td>\n",
       "      <td>0.680321</td>\n",
       "      <td>0.841923</td>\n",
       "    </tr>\n",
       "  </tbody>\n",
       "</table>\n",
       "</div>"
      ],
      "text/plain": [
       "                0               1                        2  \\\n",
       "0  gdp_per_capita  social_support  healthy_life_expectancy   \n",
       "1        0.828506        1.326404                 0.437679   \n",
       "\n",
       "                              3           4                          5  \n",
       "0  freedom_to_make_life_choices  generosity  perceptions_of_corruption  \n",
       "1                      1.822445    0.680321                   0.841923  "
      ]
     },
     "execution_count": 9,
     "metadata": {},
     "output_type": "execute_result"
    }
   ],
   "source": [
    "arr = [0.82850578, 1.32640443, 0.43767883, 1.82244477, 0.68032134, 0.84192323]\n",
    "pd.DataFrame([x.columns,arr])"
   ]
  },
  {
   "cell_type": "code",
   "execution_count": 10,
   "id": "85cb4561",
   "metadata": {
    "execution": {
     "iopub.execute_input": "2025-05-25T15:35:09.121084Z",
     "iopub.status.busy": "2025-05-25T15:35:09.120781Z",
     "iopub.status.idle": "2025-05-25T15:35:09.130079Z",
     "shell.execute_reply": "2025-05-25T15:35:09.128588Z"
    },
    "papermill": {
     "duration": 0.018772,
     "end_time": "2025-05-25T15:35:09.131693",
     "exception": false,
     "start_time": "2025-05-25T15:35:09.112921",
     "status": "completed"
    },
    "tags": []
   },
   "outputs": [],
   "source": [
    "pred_test=mod.predict(x_test)"
   ]
  },
  {
   "cell_type": "markdown",
   "id": "f36243b1",
   "metadata": {
    "papermill": {
     "duration": 0.007403,
     "end_time": "2025-05-25T15:35:09.146030",
     "exception": false,
     "start_time": "2025-05-25T15:35:09.138627",
     "status": "completed"
    },
    "tags": []
   },
   "source": [
    "Let's draw a scatter plot showing the relationship between the actual test values (y_test) and the predicted values (pred_test) obtained from the model."
   ]
  },
  {
   "cell_type": "code",
   "execution_count": 11,
   "id": "c9efe34a",
   "metadata": {
    "execution": {
     "iopub.execute_input": "2025-05-25T15:35:09.161531Z",
     "iopub.status.busy": "2025-05-25T15:35:09.161163Z",
     "iopub.status.idle": "2025-05-25T15:35:15.482587Z",
     "shell.execute_reply": "2025-05-25T15:35:15.481517Z"
    },
    "papermill": {
     "duration": 6.331523,
     "end_time": "2025-05-25T15:35:15.484212",
     "exception": false,
     "start_time": "2025-05-25T15:35:09.152689",
     "status": "completed"
    },
    "tags": []
   },
   "outputs": [
    {
     "name": "stdout",
     "output_type": "stream",
     "text": [
      "Requirement already satisfied: seaborn in /usr/local/lib/python3.11/dist-packages (0.12.2)\r\n",
      "Requirement already satisfied: numpy!=1.24.0,>=1.17 in /usr/local/lib/python3.11/dist-packages (from seaborn) (1.26.4)\r\n",
      "Requirement already satisfied: pandas>=0.25 in /usr/local/lib/python3.11/dist-packages (from seaborn) (2.2.3)\r\n",
      "Requirement already satisfied: matplotlib!=3.6.1,>=3.1 in /usr/local/lib/python3.11/dist-packages (from seaborn) (3.7.2)\r\n",
      "Requirement already satisfied: contourpy>=1.0.1 in /usr/local/lib/python3.11/dist-packages (from matplotlib!=3.6.1,>=3.1->seaborn) (1.3.1)\r\n",
      "Requirement already satisfied: cycler>=0.10 in /usr/local/lib/python3.11/dist-packages (from matplotlib!=3.6.1,>=3.1->seaborn) (0.12.1)\r\n",
      "Requirement already satisfied: fonttools>=4.22.0 in /usr/local/lib/python3.11/dist-packages (from matplotlib!=3.6.1,>=3.1->seaborn) (4.57.0)\r\n",
      "Requirement already satisfied: kiwisolver>=1.0.1 in /usr/local/lib/python3.11/dist-packages (from matplotlib!=3.6.1,>=3.1->seaborn) (1.4.8)\r\n",
      "Requirement already satisfied: packaging>=20.0 in /usr/local/lib/python3.11/dist-packages (from matplotlib!=3.6.1,>=3.1->seaborn) (25.0)\r\n",
      "Requirement already satisfied: pillow>=6.2.0 in /usr/local/lib/python3.11/dist-packages (from matplotlib!=3.6.1,>=3.1->seaborn) (11.1.0)\r\n",
      "Requirement already satisfied: pyparsing<3.1,>=2.3.1 in /usr/local/lib/python3.11/dist-packages (from matplotlib!=3.6.1,>=3.1->seaborn) (3.0.9)\r\n",
      "Requirement already satisfied: python-dateutil>=2.7 in /usr/local/lib/python3.11/dist-packages (from matplotlib!=3.6.1,>=3.1->seaborn) (2.9.0.post0)\r\n",
      "Requirement already satisfied: mkl_fft in /usr/local/lib/python3.11/dist-packages (from numpy!=1.24.0,>=1.17->seaborn) (1.3.8)\r\n",
      "Requirement already satisfied: mkl_random in /usr/local/lib/python3.11/dist-packages (from numpy!=1.24.0,>=1.17->seaborn) (1.2.4)\r\n",
      "Requirement already satisfied: mkl_umath in /usr/local/lib/python3.11/dist-packages (from numpy!=1.24.0,>=1.17->seaborn) (0.1.1)\r\n",
      "Requirement already satisfied: mkl in /usr/local/lib/python3.11/dist-packages (from numpy!=1.24.0,>=1.17->seaborn) (2025.1.0)\r\n",
      "Requirement already satisfied: tbb4py in /usr/local/lib/python3.11/dist-packages (from numpy!=1.24.0,>=1.17->seaborn) (2022.1.0)\r\n",
      "Requirement already satisfied: mkl-service in /usr/local/lib/python3.11/dist-packages (from numpy!=1.24.0,>=1.17->seaborn) (2.4.1)\r\n",
      "Requirement already satisfied: pytz>=2020.1 in /usr/local/lib/python3.11/dist-packages (from pandas>=0.25->seaborn) (2025.2)\r\n",
      "Requirement already satisfied: tzdata>=2022.7 in /usr/local/lib/python3.11/dist-packages (from pandas>=0.25->seaborn) (2025.2)\r\n",
      "Requirement already satisfied: six>=1.5 in /usr/local/lib/python3.11/dist-packages (from python-dateutil>=2.7->matplotlib!=3.6.1,>=3.1->seaborn) (1.17.0)\r\n",
      "Requirement already satisfied: intel-openmp<2026,>=2024 in /usr/local/lib/python3.11/dist-packages (from mkl->numpy!=1.24.0,>=1.17->seaborn) (2024.2.0)\r\n",
      "Requirement already satisfied: tbb==2022.* in /usr/local/lib/python3.11/dist-packages (from mkl->numpy!=1.24.0,>=1.17->seaborn) (2022.1.0)\r\n",
      "Requirement already satisfied: tcmlib==1.* in /usr/local/lib/python3.11/dist-packages (from tbb==2022.*->mkl->numpy!=1.24.0,>=1.17->seaborn) (1.3.0)\r\n",
      "Requirement already satisfied: intel-cmplr-lib-rt in /usr/local/lib/python3.11/dist-packages (from mkl_umath->numpy!=1.24.0,>=1.17->seaborn) (2024.2.0)\r\n",
      "Requirement already satisfied: intel-cmplr-lib-ur==2024.2.0 in /usr/local/lib/python3.11/dist-packages (from intel-openmp<2026,>=2024->mkl->numpy!=1.24.0,>=1.17->seaborn) (2024.2.0)\r\n",
      "Note: you may need to restart the kernel to use updated packages.\n"
     ]
    },
    {
     "data": {
      "text/plain": [
       "<Axes: xlabel='happiness_score'>"
      ]
     },
     "execution_count": 11,
     "metadata": {},
     "output_type": "execute_result"
    },
    {
     "data": {
      "image/png": "[encoded data removed]",
      "text/plain": [
       "<Figure size 640x480 with 1 Axes>"
      ]
     },
     "metadata": {},
     "output_type": "display_data"
    }
   ],
   "source": [
    "%pip install seaborn\n",
    "import seaborn as sbn\n",
    "sbn.regplot(x=y_test,y=pred_test,color=\"red\")\n"
   ]
  },
  {
   "cell_type": "markdown",
   "id": "1bc8d875",
   "metadata": {
    "papermill": {
     "duration": 0.007235,
     "end_time": "2025-05-25T15:35:15.499458",
     "exception": false,
     "start_time": "2025-05-25T15:35:15.492223",
     "status": "completed"
    },
    "tags": []
   },
   "source": [
    "Let's calculate the MSE and R^2 metrics to evaluate the prediction values."
   ]
  },
  {
   "cell_type": "code",
   "execution_count": 12,
   "id": "1a9fe59a",
   "metadata": {
    "execution": {
     "iopub.execute_input": "2025-05-25T15:35:15.515592Z",
     "iopub.status.busy": "2025-05-25T15:35:15.515111Z",
     "iopub.status.idle": "2025-05-25T15:35:15.523741Z",
     "shell.execute_reply": "2025-05-25T15:35:15.522802Z"
    },
    "papermill": {
     "duration": 0.018397,
     "end_time": "2025-05-25T15:35:15.525225",
     "exception": false,
     "start_time": "2025-05-25T15:35:15.506828",
     "status": "completed"
    },
    "tags": []
   },
   "outputs": [
    {
     "name": "stdout",
     "output_type": "stream",
     "text": [
      "MSE  0.2868724684667978 R squared 0.7876467104650481\n"
     ]
    }
   ],
   "source": [
    "from sklearn.metrics import mean_squared_error,r2_score\n",
    "mse=mean_squared_error(y_test,pred_test)\n",
    "r2=r2_score(y_test,pred_test)\n",
    "print(\"MSE \" ,mse, \"R squared\",r2) "
   ]
  },
  {
   "cell_type": "markdown",
   "id": "709dacbc",
   "metadata": {
    "papermill": {
     "duration": 0.007436,
     "end_time": "2025-05-25T15:35:15.540577",
     "exception": false,
     "start_time": "2025-05-25T15:35:15.533141",
     "status": "completed"
    },
    "tags": []
   },
   "source": [
    "# BAGGING (Bootsrap Aggregation)"
   ]
  },
  {
   "cell_type": "markdown",
   "id": "5b959ffa",
   "metadata": {
    "papermill": {
     "duration": 0.007187,
     "end_time": "2025-05-25T15:35:15.555104",
     "exception": false,
     "start_time": "2025-05-25T15:35:15.547917",
     "status": "completed"
    },
    "tags": []
   },
   "source": [
    "İmporting\n"
   ]
  },
  {
   "cell_type": "code",
   "execution_count": 13,
   "id": "2bada568",
   "metadata": {
    "execution": {
     "iopub.execute_input": "2025-05-25T15:35:15.572068Z",
     "iopub.status.busy": "2025-05-25T15:35:15.571056Z",
     "iopub.status.idle": "2025-05-25T15:35:15.894663Z",
     "shell.execute_reply": "2025-05-25T15:35:15.893514Z"
    },
    "papermill": {
     "duration": 0.333703,
     "end_time": "2025-05-25T15:35:15.896353",
     "exception": false,
     "start_time": "2025-05-25T15:35:15.562650",
     "status": "completed"
    },
    "tags": []
   },
   "outputs": [],
   "source": [
    "from sklearn.ensemble import BaggingRegressor\n",
    "from sklearn.model_selection import GridSearchCV"
   ]
  },
  {
   "cell_type": "markdown",
   "id": "6b062f16",
   "metadata": {
    "papermill": {
     "duration": 0.007071,
     "end_time": "2025-05-25T15:35:15.911105",
     "exception": false,
     "start_time": "2025-05-25T15:35:15.904034",
     "status": "completed"
    },
    "tags": []
   },
   "source": [
    "Model Optimization:Before building the model, let's optimize the n_estimators hyperparameter."
   ]
  },
  {
   "cell_type": "code",
   "execution_count": 14,
   "id": "b4f3640b",
   "metadata": {
    "execution": {
     "iopub.execute_input": "2025-05-25T15:35:15.927655Z",
     "iopub.status.busy": "2025-05-25T15:35:15.926923Z",
     "iopub.status.idle": "2025-05-25T15:35:31.458814Z",
     "shell.execute_reply": "2025-05-25T15:35:31.457691Z"
    },
    "papermill": {
     "duration": 15.54166,
     "end_time": "2025-05-25T15:35:31.460226",
     "exception": false,
     "start_time": "2025-05-25T15:35:15.918566",
     "status": "completed"
    },
    "tags": []
   },
   "outputs": [
    {
     "data": {
      "text/plain": [
       "{'n_estimators': 32}"
      ]
     },
     "execution_count": 14,
     "metadata": {},
     "output_type": "execute_result"
    }
   ],
   "source": [
    "model =BaggingRegressor(bootstrap_features=(True)).fit(x_egitim, y_egitim.values.ravel())\n",
    "\n",
    "params ={\"n_estimators\": range(2,40)}\n",
    "bag_cv = GridSearchCV(model, params, cv = 10).fit(x_egitim, y_egitim.values.ravel())\n",
    "bag_cv.best_params_"
   ]
  },
  {
   "cell_type": "code",
   "execution_count": 15,
   "id": "1fb7fe70",
   "metadata": {
    "execution": {
     "iopub.execute_input": "2025-05-25T15:35:31.546149Z",
     "iopub.status.busy": "2025-05-25T15:35:31.545815Z",
     "iopub.status.idle": "2025-05-25T15:35:31.598513Z",
     "shell.execute_reply": "2025-05-25T15:35:31.597526Z"
    },
    "papermill": {
     "duration": 0.063117,
     "end_time": "2025-05-25T15:35:31.600161",
     "exception": false,
     "start_time": "2025-05-25T15:35:31.537044",
     "status": "completed"
    },
    "tags": []
   },
   "outputs": [],
   "source": [
    "model = BaggingRegressor(bootstrap_features=(True), n_estimators = 24).fit(x_egitim, y_egitim.values.ravel())"
   ]
  },
  {
   "cell_type": "markdown",
   "id": "8e061645",
   "metadata": {
    "papermill": {
     "duration": 0.007348,
     "end_time": "2025-05-25T15:35:31.615352",
     "exception": false,
     "start_time": "2025-05-25T15:35:31.608004",
     "status": "completed"
    },
    "tags": []
   },
   "source": [
    "Predicting"
   ]
  },
  {
   "cell_type": "code",
   "execution_count": 16,
   "id": "d96427aa",
   "metadata": {
    "execution": {
     "iopub.execute_input": "2025-05-25T15:35:31.631830Z",
     "iopub.status.busy": "2025-05-25T15:35:31.631495Z",
     "iopub.status.idle": "2025-05-25T15:35:31.888123Z",
     "shell.execute_reply": "2025-05-25T15:35:31.887155Z"
    },
    "papermill": {
     "duration": 0.266756,
     "end_time": "2025-05-25T15:35:31.889699",
     "exception": false,
     "start_time": "2025-05-25T15:35:31.622943",
     "status": "completed"
    },
    "tags": []
   },
   "outputs": [
    {
     "data": {
      "text/plain": [
       "<Axes: xlabel='happiness_score'>"
      ]
     },
     "execution_count": 16,
     "metadata": {},
     "output_type": "execute_result"
    },
    {
     "data": {
      "image/png": "[encoded data removed]",
      "text/plain": [
       "<Figure size 640x480 with 1 Axes>"
      ]
     },
     "metadata": {},
     "output_type": "display_data"
    }
   ],
   "source": [
    "pred_test=model.predict(x_test)\n",
    "sbn.regplot(x=y_test,y=pred_test,color=\"cadetblue\")"
   ]
  },
  {
   "cell_type": "markdown",
   "id": "4c211910",
   "metadata": {
    "papermill": {
     "duration": 0.007891,
     "end_time": "2025-05-25T15:35:31.906043",
     "exception": false,
     "start_time": "2025-05-25T15:35:31.898152",
     "status": "completed"
    },
    "tags": []
   },
   "source": [
    "MSE and R squared"
   ]
  },
  {
   "cell_type": "code",
   "execution_count": 17,
   "id": "2791fc2a",
   "metadata": {
    "execution": {
     "iopub.execute_input": "2025-05-25T15:35:31.924117Z",
     "iopub.status.busy": "2025-05-25T15:35:31.923779Z",
     "iopub.status.idle": "2025-05-25T15:35:31.932797Z",
     "shell.execute_reply": "2025-05-25T15:35:31.931697Z"
    },
    "papermill": {
     "duration": 0.019925,
     "end_time": "2025-05-25T15:35:31.934113",
     "exception": false,
     "start_time": "2025-05-25T15:35:31.914188",
     "status": "completed"
    },
    "tags": []
   },
   "outputs": [
    {
     "name": "stdout",
     "output_type": "stream",
     "text": [
      "MSE: 0.32094975648148133 R kare: 0.7624214797309055\n"
     ]
    }
   ],
   "source": [
    "mse=mean_squared_error(y_test,pred_test)\n",
    "r2=r2_score(y_test,pred_test)\n",
    "print(\"MSE:\",mse,\"R kare:\",r2)"
   ]
  },
  {
   "cell_type": "markdown",
   "id": "43bf438a",
   "metadata": {
    "papermill": {
     "duration": 0.007884,
     "end_time": "2025-05-25T15:35:31.950406",
     "exception": false,
     "start_time": "2025-05-25T15:35:31.942522",
     "status": "completed"
    },
    "tags": []
   },
   "source": [
    "# RANDOM FOREST"
   ]
  },
  {
   "cell_type": "markdown",
   "id": "0131b216",
   "metadata": {
    "papermill": {
     "duration": 0.007909,
     "end_time": "2025-05-25T15:35:31.966510",
     "exception": false,
     "start_time": "2025-05-25T15:35:31.958601",
     "status": "completed"
    },
    "tags": []
   },
   "source": [
    "Importing\n"
   ]
  },
  {
   "cell_type": "code",
   "execution_count": 18,
   "id": "b681c08f",
   "metadata": {
    "execution": {
     "iopub.execute_input": "2025-05-25T15:35:31.983971Z",
     "iopub.status.busy": "2025-05-25T15:35:31.983658Z",
     "iopub.status.idle": "2025-05-25T15:35:31.987893Z",
     "shell.execute_reply": "2025-05-25T15:35:31.987089Z"
    },
    "papermill": {
     "duration": 0.014713,
     "end_time": "2025-05-25T15:35:31.989278",
     "exception": false,
     "start_time": "2025-05-25T15:35:31.974565",
     "status": "completed"
    },
    "tags": []
   },
   "outputs": [],
   "source": [
    "from sklearn.ensemble import RandomForestRegressor"
   ]
  },
  {
   "cell_type": "markdown",
   "id": "531f0f20",
   "metadata": {
    "papermill": {
     "duration": 0.008223,
     "end_time": "2025-05-25T15:35:32.006009",
     "exception": false,
     "start_time": "2025-05-25T15:35:31.997786",
     "status": "completed"
    },
    "tags": []
   },
   "source": [
    "Model Optimization"
   ]
  },
  {
   "cell_type": "code",
   "execution_count": 19,
   "id": "f85fe620",
   "metadata": {
    "execution": {
     "iopub.execute_input": "2025-05-25T15:35:32.024273Z",
     "iopub.status.busy": "2025-05-25T15:35:32.023968Z",
     "iopub.status.idle": "2025-05-25T15:36:15.269300Z",
     "shell.execute_reply": "2025-05-25T15:36:15.268256Z"
    },
    "papermill": {
     "duration": 43.264625,
     "end_time": "2025-05-25T15:36:15.279162",
     "exception": false,
     "start_time": "2025-05-25T15:35:32.014537",
     "status": "completed"
    },
    "tags": []
   },
   "outputs": [
    {
     "data": {
      "text/plain": [
       "{'max_depth': 4, 'max_features': 2, 'n_estimators': 200}"
      ]
     },
     "execution_count": 19,
     "metadata": {},
     "output_type": "execute_result"
    }
   ],
   "source": [
    "model = RandomForestRegressor().fit(x_egitim, y_egitim.values.ravel())\n",
    "\n",
    "params = {\"max_depth\": range(1,5), \"max_features\": [2,3,5],\n",
    "          \"n_estimators\": [100,200]}\n",
    "\n",
    "rf_cv = GridSearchCV(model, params, cv = 10).fit(x_egitim, y_egitim.values.ravel())\n",
    "rf_cv.best_params_"
   ]
  },
  {
   "cell_type": "code",
   "execution_count": 20,
   "id": "51070ea7",
   "metadata": {
    "execution": {
     "iopub.execute_input": "2025-05-25T15:36:15.297555Z",
     "iopub.status.busy": "2025-05-25T15:36:15.297197Z",
     "iopub.status.idle": "2025-05-25T15:36:15.539915Z",
     "shell.execute_reply": "2025-05-25T15:36:15.538903Z"
    },
    "papermill": {
     "duration": 0.254028,
     "end_time": "2025-05-25T15:36:15.541667",
     "exception": false,
     "start_time": "2025-05-25T15:36:15.287639",
     "status": "completed"
    },
    "tags": []
   },
   "outputs": [],
   "source": [
    "model_best = RandomForestRegressor(max_depth = 4, max_features = 2,\n",
    "                              n_estimators = 200).fit(x_egitim, y_egitim.values.ravel())"
   ]
  },
  {
   "cell_type": "markdown",
   "id": "e121561c",
   "metadata": {
    "papermill": {
     "duration": 0.008202,
     "end_time": "2025-05-25T15:36:15.558254",
     "exception": false,
     "start_time": "2025-05-25T15:36:15.550052",
     "status": "completed"
    },
    "tags": []
   },
   "source": [
    " Predict"
   ]
  },
  {
   "cell_type": "code",
   "execution_count": 21,
   "id": "d9ecf948",
   "metadata": {
    "execution": {
     "iopub.execute_input": "2025-05-25T15:36:15.577058Z",
     "iopub.status.busy": "2025-05-25T15:36:15.576741Z",
     "iopub.status.idle": "2025-05-25T15:36:15.835563Z",
     "shell.execute_reply": "2025-05-25T15:36:15.834412Z"
    },
    "papermill": {
     "duration": 0.27034,
     "end_time": "2025-05-25T15:36:15.837222",
     "exception": false,
     "start_time": "2025-05-25T15:36:15.566882",
     "status": "completed"
    },
    "tags": []
   },
   "outputs": [
    {
     "data": {
      "text/plain": [
       "<Axes: xlabel='happiness_score'>"
      ]
     },
     "execution_count": 21,
     "metadata": {},
     "output_type": "execute_result"
    },
    {
     "data": {
      "image/png": "[encoded data removed]",
      "text/plain": [
       "<Figure size 640x480 with 1 Axes>"
      ]
     },
     "metadata": {},
     "output_type": "display_data"
    }
   ],
   "source": [
    "pred_test=model_best.predict(x_test)\n",
    "sbn.regplot(x=y_test,y=pred_test,color=\"mediumaquamarine\")"
   ]
  },
  {
   "cell_type": "markdown",
   "id": "d47979d2",
   "metadata": {
    "papermill": {
     "duration": 0.008626,
     "end_time": "2025-05-25T15:36:15.855103",
     "exception": false,
     "start_time": "2025-05-25T15:36:15.846477",
     "status": "completed"
    },
    "tags": []
   },
   "source": [
    "MSE and R squared "
   ]
  },
  {
   "cell_type": "code",
   "execution_count": 22,
   "id": "aa4c86d6",
   "metadata": {
    "execution": {
     "iopub.execute_input": "2025-05-25T15:36:15.875218Z",
     "iopub.status.busy": "2025-05-25T15:36:15.874140Z",
     "iopub.status.idle": "2025-05-25T15:36:15.883372Z",
     "shell.execute_reply": "2025-05-25T15:36:15.882454Z"
    },
    "papermill": {
     "duration": 0.020858,
     "end_time": "2025-05-25T15:36:15.884902",
     "exception": false,
     "start_time": "2025-05-25T15:36:15.864044",
     "status": "completed"
    },
    "tags": []
   },
   "outputs": [
    {
     "name": "stdout",
     "output_type": "stream",
     "text": [
      "MSE: 0.337721191644524 R kare: 0.7500066619335451\n"
     ]
    }
   ],
   "source": [
    "mse=mean_squared_error(y_test,pred_test)\n",
    "r2=r2_score(y_test,pred_test)\n",
    "print(\"MSE:\",mse,\"R kare:\",r2)"
   ]
  }
 ],
 "metadata": {
  "kaggle": {
   "accelerator": "none",
   "dataSources": [
    {
     "datasetId": 3715920,
     "sourceId": 6438819,
     "sourceType": "datasetVersion"
    }
   ],
   "dockerImageVersionId": 31040,
   "isGpuEnabled": false,
   "isInternetEnabled": false,
   "language": "python",
   "sourceType": "notebook"
  },
  "kernelspec": {
   "display_name": "Python 3",
   "language": "python",
   "name": "python3"
  },
  "language_info": {
   "codemirror_mode": {
    "name": "ipython",
    "version": 3
   },
   "file_extension": ".py",
   "mimetype": "text/x-python",
   "name": "python",
   "nbconvert_exporter": "python",
   "pygments_lexer": "ipython3",
   "version": "3.11.11"
  },
  "papermill": {
   "default_parameters": {},
   "duration": 77.241806,
   "end_time": "2025-05-25T15:36:16.714949",
   "environment_variables": {},
   "exception": null,
   "input_path": "__notebook__.ipynb",
   "output_path": "__notebook__.ipynb",
   "parameters": {},
   "start_time": "2025-05-25T15:34:59.473143",
   "version": "2.6.0"
  }
 },
 "nbformat": 4,
 "nbformat_minor": 5
}
